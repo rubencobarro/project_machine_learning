{
 "cells": [
  {
   "cell_type": "code",
   "execution_count": 1,
   "metadata": {},
   "outputs": [],
   "source": [
    "import pandas as pd\n",
    "import matplotlib.pyplot as plt\n",
    "import numpy as np\n",
    "import seaborn as sns\n",
    "import plotly.express as px\n",
    "import scipy.stats as ss\n",
    "import warnings\n",
    "from IPython.display import Image\n",
    "from sklearn.preprocessing import OneHotEncoder\n",
    "import category_encoders as ce\n",
    "from category_encoders.target_encoder import TargetEncoder\n",
    "#from sklearn.ensemble.partial_dependence import partial_dependence, plot_partial_dependence"
   ]
  },
  {
   "cell_type": "code",
   "execution_count": 2,
   "metadata": {},
   "outputs": [],
   "source": [
    "import pandas as pd\n",
    "import numpy as np\n",
    "import plotly.express as px\n",
    "from sklearn.preprocessing import OneHotEncoder\n",
    "import category_encoders as ce\n",
    "import xgboost as xgb\n",
    "from sklearn.model_selection import GridSearchCV\n",
    "from sklearn.metrics import accuracy_score\n",
    "\n",
    "from sklearn.metrics import confusion_matrix\n",
    "import seaborn as sns\n",
    "\n",
    "import scikitplot as skplt\n",
    "from sklearn.metrics import roc_auc_score\n",
    "from sklearn.metrics import roc_curve\n",
    "import matplotlib.pyplot as plt \n",
    "\n",
    "from sklearn.metrics import roc_auc_score, roc_curve, plot_roc_curve\n",
    "from sklearn import metrics\n",
    "\n",
    "from sklearn.metrics import classification_report\n",
    "\n",
    "import pickle "
   ]
  },
  {
   "cell_type": "code",
   "execution_count": 3,
   "metadata": {},
   "outputs": [
    {
     "name": "stderr",
     "output_type": "stream",
     "text": [
      "C:\\Users\\ASus\\anaconda3\\lib\\site-packages\\IPython\\core\\interactiveshell.py:3165: DtypeWarning: Columns (15,18,19) have mixed types.Specify dtype option on import or set low_memory=False.\n",
      "  has_raised = await self.run_ast_nodes(code_ast.body, cell_name,\n"
     ]
    }
   ],
   "source": [
    "df_car = pd.read_csv('df_car.csv')"
   ]
  },
  {
   "cell_type": "code",
   "execution_count": 4,
   "metadata": {},
   "outputs": [
    {
     "data": {
      "text/html": [
       "<div>\n",
       "<style scoped>\n",
       "    .dataframe tbody tr th:only-of-type {\n",
       "        vertical-align: middle;\n",
       "    }\n",
       "\n",
       "    .dataframe tbody tr th {\n",
       "        vertical-align: top;\n",
       "    }\n",
       "\n",
       "    .dataframe thead th {\n",
       "        text-align: right;\n",
       "    }\n",
       "</style>\n",
       "<table border=\"1\" class=\"dataframe\">\n",
       "  <thead>\n",
       "    <tr style=\"text-align: right;\">\n",
       "      <th></th>\n",
       "      <th>Number of NA</th>\n",
       "      <th>Percent NA</th>\n",
       "    </tr>\n",
       "  </thead>\n",
       "  <tbody>\n",
       "  </tbody>\n",
       "</table>\n",
       "</div>"
      ],
      "text/plain": [
       "Empty DataFrame\n",
       "Columns: [Number of NA, Percent NA]\n",
       "Index: []"
      ]
     },
     "execution_count": 4,
     "metadata": {},
     "output_type": "execute_result"
    }
   ],
   "source": [
    "def access_NA(df_car):\n",
    "    \n",
    "    null_sum = df_car.isnull().sum()\n",
    "    total = null_sum.sort_values(ascending=False)\n",
    "    percent = ( ((null_sum / len(df_car.index))*100).round(2) ).sort_values(ascending=False)\n",
    "    \n",
    "    \n",
    "    data_car_na = pd.concat([total, percent], axis=1, keys=['Number of NA', 'Percent NA'])\n",
    "    \n",
    "    data_car_na = data_car_na[ (data_car_na.T != 0).any() ]\n",
    "    \n",
    "    return data_car_na\n",
    "\n",
    "access_NA(df_car)"
   ]
  },
  {
   "cell_type": "code",
   "execution_count": 5,
   "metadata": {},
   "outputs": [],
   "source": [
    "df_car = df_car.drop(['P_ID', 'V_ID', 'C_YEAR'], axis = 1)"
   ]
  },
  {
   "cell_type": "code",
   "execution_count": 6,
   "metadata": {},
   "outputs": [],
   "source": [
    "cat_data = df_car.select_dtypes(include = ['object', 'category']).columns"
   ]
  },
  {
   "cell_type": "code",
   "execution_count": 7,
   "metadata": {},
   "outputs": [
    {
     "data": {
      "text/plain": [
       "Index(['C_CONF', 'C_RCFG', 'C_WTHR', 'C_RSUR', 'C_RALN', 'C_TRAF', 'V_TYPE',\n",
       "       'P_SEX', 'P_PSN', 'P_ISEV', 'P_SAFE'],\n",
       "      dtype='object')"
      ]
     },
     "execution_count": 7,
     "metadata": {},
     "output_type": "execute_result"
    }
   ],
   "source": [
    "cat_data"
   ]
  },
  {
   "cell_type": "code",
   "execution_count": 8,
   "metadata": {},
   "outputs": [
    {
     "name": "stderr",
     "output_type": "stream",
     "text": [
      "C:\\Users\\ASus\\anaconda3\\lib\\site-packages\\category_encoders\\utils.py:21: FutureWarning: is_categorical is deprecated and will be removed in a future version.  Use is_categorical_dtype instead\n",
      "  elif pd.api.types.is_categorical(cols):\n"
     ]
    }
   ],
   "source": [
    "TE = ce.TargetEncoder(cols = cat_data)\n",
    "model = TE.fit(df_car, df_car['C_SEV'])"
   ]
  },
  {
   "cell_type": "code",
   "execution_count": 9,
   "metadata": {
    "scrolled": true
   },
   "outputs": [
    {
     "data": {
      "text/html": [
       "<div>\n",
       "<style scoped>\n",
       "    .dataframe tbody tr th:only-of-type {\n",
       "        vertical-align: middle;\n",
       "    }\n",
       "\n",
       "    .dataframe tbody tr th {\n",
       "        vertical-align: top;\n",
       "    }\n",
       "\n",
       "    .dataframe thead th {\n",
       "        text-align: right;\n",
       "    }\n",
       "</style>\n",
       "<table border=\"1\" class=\"dataframe\">\n",
       "  <thead>\n",
       "    <tr style=\"text-align: right;\">\n",
       "      <th></th>\n",
       "      <th>C_MNTH</th>\n",
       "      <th>C_WDAY</th>\n",
       "      <th>C_HOUR</th>\n",
       "      <th>C_SEV</th>\n",
       "      <th>C_VEHS</th>\n",
       "      <th>C_CONF</th>\n",
       "      <th>C_RCFG</th>\n",
       "      <th>C_WTHR</th>\n",
       "      <th>C_RSUR</th>\n",
       "      <th>C_RALN</th>\n",
       "      <th>C_TRAF</th>\n",
       "      <th>V_TYPE</th>\n",
       "      <th>V_YEAR</th>\n",
       "      <th>P_SEX</th>\n",
       "      <th>P_AGE</th>\n",
       "      <th>P_PSN</th>\n",
       "      <th>P_ISEV</th>\n",
       "      <th>P_SAFE</th>\n",
       "      <th>P_USER</th>\n",
       "    </tr>\n",
       "  </thead>\n",
       "  <tbody>\n",
       "    <tr>\n",
       "      <th>0</th>\n",
       "      <td>1</td>\n",
       "      <td>1</td>\n",
       "      <td>20</td>\n",
       "      <td>0</td>\n",
       "      <td>2</td>\n",
       "      <td>0.012446</td>\n",
       "      <td>0.010090</td>\n",
       "      <td>0.015889</td>\n",
       "      <td>0.020002</td>\n",
       "      <td>0.037848</td>\n",
       "      <td>0.013484</td>\n",
       "      <td>0.024478</td>\n",
       "      <td>1990</td>\n",
       "      <td>0.019940</td>\n",
       "      <td>41</td>\n",
       "      <td>0.015195</td>\n",
       "      <td>0.008339</td>\n",
       "      <td>0.013812</td>\n",
       "      <td>1</td>\n",
       "    </tr>\n",
       "    <tr>\n",
       "      <th>1</th>\n",
       "      <td>1</td>\n",
       "      <td>1</td>\n",
       "      <td>20</td>\n",
       "      <td>0</td>\n",
       "      <td>2</td>\n",
       "      <td>0.012446</td>\n",
       "      <td>0.010090</td>\n",
       "      <td>0.015889</td>\n",
       "      <td>0.020002</td>\n",
       "      <td>0.037848</td>\n",
       "      <td>0.013484</td>\n",
       "      <td>0.014462</td>\n",
       "      <td>1987</td>\n",
       "      <td>0.019940</td>\n",
       "      <td>19</td>\n",
       "      <td>0.015195</td>\n",
       "      <td>0.008339</td>\n",
       "      <td>0.013812</td>\n",
       "      <td>1</td>\n",
       "    </tr>\n",
       "    <tr>\n",
       "      <th>2</th>\n",
       "      <td>1</td>\n",
       "      <td>1</td>\n",
       "      <td>20</td>\n",
       "      <td>0</td>\n",
       "      <td>2</td>\n",
       "      <td>0.012446</td>\n",
       "      <td>0.010090</td>\n",
       "      <td>0.015889</td>\n",
       "      <td>0.020002</td>\n",
       "      <td>0.037848</td>\n",
       "      <td>0.013484</td>\n",
       "      <td>0.014462</td>\n",
       "      <td>1987</td>\n",
       "      <td>0.012676</td>\n",
       "      <td>20</td>\n",
       "      <td>0.018782</td>\n",
       "      <td>0.011069</td>\n",
       "      <td>0.013812</td>\n",
       "      <td>2</td>\n",
       "    </tr>\n",
       "    <tr>\n",
       "      <th>3</th>\n",
       "      <td>1</td>\n",
       "      <td>1</td>\n",
       "      <td>8</td>\n",
       "      <td>0</td>\n",
       "      <td>1</td>\n",
       "      <td>0.031366</td>\n",
       "      <td>0.010090</td>\n",
       "      <td>0.027297</td>\n",
       "      <td>0.018718</td>\n",
       "      <td>0.035336</td>\n",
       "      <td>0.023966</td>\n",
       "      <td>0.014462</td>\n",
       "      <td>1986</td>\n",
       "      <td>0.019940</td>\n",
       "      <td>46</td>\n",
       "      <td>0.015195</td>\n",
       "      <td>0.008339</td>\n",
       "      <td>0.013812</td>\n",
       "      <td>1</td>\n",
       "    </tr>\n",
       "    <tr>\n",
       "      <th>4</th>\n",
       "      <td>1</td>\n",
       "      <td>1</td>\n",
       "      <td>8</td>\n",
       "      <td>0</td>\n",
       "      <td>1</td>\n",
       "      <td>0.031366</td>\n",
       "      <td>0.010090</td>\n",
       "      <td>0.027297</td>\n",
       "      <td>0.018718</td>\n",
       "      <td>0.035336</td>\n",
       "      <td>0.023966</td>\n",
       "      <td>0.029604</td>\n",
       "      <td>2000</td>\n",
       "      <td>0.019940</td>\n",
       "      <td>5</td>\n",
       "      <td>0.030524</td>\n",
       "      <td>0.011069</td>\n",
       "      <td>0.013812</td>\n",
       "      <td>3</td>\n",
       "    </tr>\n",
       "    <tr>\n",
       "      <th>...</th>\n",
       "      <td>...</td>\n",
       "      <td>...</td>\n",
       "      <td>...</td>\n",
       "      <td>...</td>\n",
       "      <td>...</td>\n",
       "      <td>...</td>\n",
       "      <td>...</td>\n",
       "      <td>...</td>\n",
       "      <td>...</td>\n",
       "      <td>...</td>\n",
       "      <td>...</td>\n",
       "      <td>...</td>\n",
       "      <td>...</td>\n",
       "      <td>...</td>\n",
       "      <td>...</td>\n",
       "      <td>...</td>\n",
       "      <td>...</td>\n",
       "      <td>...</td>\n",
       "      <td>...</td>\n",
       "    </tr>\n",
       "    <tr>\n",
       "      <th>5255553</th>\n",
       "      <td>12</td>\n",
       "      <td>7</td>\n",
       "      <td>14</td>\n",
       "      <td>0</td>\n",
       "      <td>2</td>\n",
       "      <td>0.017569</td>\n",
       "      <td>0.027813</td>\n",
       "      <td>0.015889</td>\n",
       "      <td>0.020002</td>\n",
       "      <td>0.013352</td>\n",
       "      <td>0.023966</td>\n",
       "      <td>0.016861</td>\n",
       "      <td>2008</td>\n",
       "      <td>0.019940</td>\n",
       "      <td>44</td>\n",
       "      <td>0.014485</td>\n",
       "      <td>0.008339</td>\n",
       "      <td>0.013812</td>\n",
       "      <td>1</td>\n",
       "    </tr>\n",
       "    <tr>\n",
       "      <th>5255554</th>\n",
       "      <td>12</td>\n",
       "      <td>7</td>\n",
       "      <td>14</td>\n",
       "      <td>0</td>\n",
       "      <td>2</td>\n",
       "      <td>0.017569</td>\n",
       "      <td>0.027813</td>\n",
       "      <td>0.015889</td>\n",
       "      <td>0.020002</td>\n",
       "      <td>0.013352</td>\n",
       "      <td>0.023966</td>\n",
       "      <td>0.016861</td>\n",
       "      <td>2008</td>\n",
       "      <td>0.019940</td>\n",
       "      <td>34</td>\n",
       "      <td>0.018323</td>\n",
       "      <td>0.011069</td>\n",
       "      <td>0.013812</td>\n",
       "      <td>2</td>\n",
       "    </tr>\n",
       "    <tr>\n",
       "      <th>5255555</th>\n",
       "      <td>12</td>\n",
       "      <td>7</td>\n",
       "      <td>19</td>\n",
       "      <td>0</td>\n",
       "      <td>1</td>\n",
       "      <td>0.040117</td>\n",
       "      <td>0.027813</td>\n",
       "      <td>0.015889</td>\n",
       "      <td>0.018718</td>\n",
       "      <td>0.040510</td>\n",
       "      <td>0.023966</td>\n",
       "      <td>0.014462</td>\n",
       "      <td>2001</td>\n",
       "      <td>0.012676</td>\n",
       "      <td>35</td>\n",
       "      <td>0.014485</td>\n",
       "      <td>0.011069</td>\n",
       "      <td>0.013812</td>\n",
       "      <td>1</td>\n",
       "    </tr>\n",
       "    <tr>\n",
       "      <th>5255556</th>\n",
       "      <td>12</td>\n",
       "      <td>7</td>\n",
       "      <td>19</td>\n",
       "      <td>0</td>\n",
       "      <td>1</td>\n",
       "      <td>0.040117</td>\n",
       "      <td>0.027813</td>\n",
       "      <td>0.015889</td>\n",
       "      <td>0.018718</td>\n",
       "      <td>0.040510</td>\n",
       "      <td>0.023966</td>\n",
       "      <td>0.014462</td>\n",
       "      <td>2001</td>\n",
       "      <td>0.019940</td>\n",
       "      <td>26</td>\n",
       "      <td>0.018323</td>\n",
       "      <td>0.008339</td>\n",
       "      <td>0.013812</td>\n",
       "      <td>2</td>\n",
       "    </tr>\n",
       "    <tr>\n",
       "      <th>5255557</th>\n",
       "      <td>12</td>\n",
       "      <td>7</td>\n",
       "      <td>19</td>\n",
       "      <td>0</td>\n",
       "      <td>1</td>\n",
       "      <td>0.040117</td>\n",
       "      <td>0.027813</td>\n",
       "      <td>0.015889</td>\n",
       "      <td>0.018718</td>\n",
       "      <td>0.040510</td>\n",
       "      <td>0.023966</td>\n",
       "      <td>0.014462</td>\n",
       "      <td>2001</td>\n",
       "      <td>0.012676</td>\n",
       "      <td>15</td>\n",
       "      <td>0.020525</td>\n",
       "      <td>0.011069</td>\n",
       "      <td>0.013812</td>\n",
       "      <td>2</td>\n",
       "    </tr>\n",
       "  </tbody>\n",
       "</table>\n",
       "<p>5255558 rows × 19 columns</p>\n",
       "</div>"
      ],
      "text/plain": [
       "         C_MNTH  C_WDAY  C_HOUR  C_SEV  C_VEHS    C_CONF    C_RCFG    C_WTHR  \\\n",
       "0             1       1      20      0       2  0.012446  0.010090  0.015889   \n",
       "1             1       1      20      0       2  0.012446  0.010090  0.015889   \n",
       "2             1       1      20      0       2  0.012446  0.010090  0.015889   \n",
       "3             1       1       8      0       1  0.031366  0.010090  0.027297   \n",
       "4             1       1       8      0       1  0.031366  0.010090  0.027297   \n",
       "...         ...     ...     ...    ...     ...       ...       ...       ...   \n",
       "5255553      12       7      14      0       2  0.017569  0.027813  0.015889   \n",
       "5255554      12       7      14      0       2  0.017569  0.027813  0.015889   \n",
       "5255555      12       7      19      0       1  0.040117  0.027813  0.015889   \n",
       "5255556      12       7      19      0       1  0.040117  0.027813  0.015889   \n",
       "5255557      12       7      19      0       1  0.040117  0.027813  0.015889   \n",
       "\n",
       "           C_RSUR    C_RALN    C_TRAF    V_TYPE  V_YEAR     P_SEX  P_AGE  \\\n",
       "0        0.020002  0.037848  0.013484  0.024478    1990  0.019940     41   \n",
       "1        0.020002  0.037848  0.013484  0.014462    1987  0.019940     19   \n",
       "2        0.020002  0.037848  0.013484  0.014462    1987  0.012676     20   \n",
       "3        0.018718  0.035336  0.023966  0.014462    1986  0.019940     46   \n",
       "4        0.018718  0.035336  0.023966  0.029604    2000  0.019940      5   \n",
       "...           ...       ...       ...       ...     ...       ...    ...   \n",
       "5255553  0.020002  0.013352  0.023966  0.016861    2008  0.019940     44   \n",
       "5255554  0.020002  0.013352  0.023966  0.016861    2008  0.019940     34   \n",
       "5255555  0.018718  0.040510  0.023966  0.014462    2001  0.012676     35   \n",
       "5255556  0.018718  0.040510  0.023966  0.014462    2001  0.019940     26   \n",
       "5255557  0.018718  0.040510  0.023966  0.014462    2001  0.012676     15   \n",
       "\n",
       "            P_PSN    P_ISEV    P_SAFE  P_USER  \n",
       "0        0.015195  0.008339  0.013812       1  \n",
       "1        0.015195  0.008339  0.013812       1  \n",
       "2        0.018782  0.011069  0.013812       2  \n",
       "3        0.015195  0.008339  0.013812       1  \n",
       "4        0.030524  0.011069  0.013812       3  \n",
       "...           ...       ...       ...     ...  \n",
       "5255553  0.014485  0.008339  0.013812       1  \n",
       "5255554  0.018323  0.011069  0.013812       2  \n",
       "5255555  0.014485  0.011069  0.013812       1  \n",
       "5255556  0.018323  0.008339  0.013812       2  \n",
       "5255557  0.020525  0.011069  0.013812       2  \n",
       "\n",
       "[5255558 rows x 19 columns]"
      ]
     },
     "execution_count": 9,
     "metadata": {},
     "output_type": "execute_result"
    }
   ],
   "source": [
    "df_car_t = model.transform(df_car)\n",
    "df_car_t"
   ]
  },
  {
   "cell_type": "code",
   "execution_count": null,
   "metadata": {},
   "outputs": [],
   "source": []
  },
  {
   "cell_type": "code",
   "execution_count": 10,
   "metadata": {
    "scrolled": true
   },
   "outputs": [
    {
     "data": {
      "text/html": [
       "<div>\n",
       "<style scoped>\n",
       "    .dataframe tbody tr th:only-of-type {\n",
       "        vertical-align: middle;\n",
       "    }\n",
       "\n",
       "    .dataframe tbody tr th {\n",
       "        vertical-align: top;\n",
       "    }\n",
       "\n",
       "    .dataframe thead th {\n",
       "        text-align: right;\n",
       "    }\n",
       "</style>\n",
       "<table border=\"1\" class=\"dataframe\">\n",
       "  <thead>\n",
       "    <tr style=\"text-align: right;\">\n",
       "      <th></th>\n",
       "      <th>Number of NA</th>\n",
       "      <th>Percent NA</th>\n",
       "    </tr>\n",
       "  </thead>\n",
       "  <tbody>\n",
       "  </tbody>\n",
       "</table>\n",
       "</div>"
      ],
      "text/plain": [
       "Empty DataFrame\n",
       "Columns: [Number of NA, Percent NA]\n",
       "Index: []"
      ]
     },
     "execution_count": 10,
     "metadata": {},
     "output_type": "execute_result"
    }
   ],
   "source": [
    "access_NA(df_car_t)"
   ]
  },
  {
   "cell_type": "code",
   "execution_count": 11,
   "metadata": {},
   "outputs": [
    {
     "data": {
      "text/plain": [
       "array([1, 2, 3, 4, 5], dtype=int64)"
      ]
     },
     "execution_count": 11,
     "metadata": {},
     "output_type": "execute_result"
    }
   ],
   "source": [
    "df_car_t['P_USER'] = df_car_t['P_USER'].fillna((df_car_t['P_USER'].mode()[0]))\n",
    "df_car_t['P_USER'].unique()"
   ]
  },
  {
   "cell_type": "code",
   "execution_count": 12,
   "metadata": {},
   "outputs": [],
   "source": [
    "df_car_t = df_car_t.dropna()"
   ]
  },
  {
   "cell_type": "code",
   "execution_count": 13,
   "metadata": {},
   "outputs": [
    {
     "data": {
      "text/html": [
       "<div>\n",
       "<style scoped>\n",
       "    .dataframe tbody tr th:only-of-type {\n",
       "        vertical-align: middle;\n",
       "    }\n",
       "\n",
       "    .dataframe tbody tr th {\n",
       "        vertical-align: top;\n",
       "    }\n",
       "\n",
       "    .dataframe thead th {\n",
       "        text-align: right;\n",
       "    }\n",
       "</style>\n",
       "<table border=\"1\" class=\"dataframe\">\n",
       "  <thead>\n",
       "    <tr style=\"text-align: right;\">\n",
       "      <th></th>\n",
       "      <th>Number of NA</th>\n",
       "      <th>Percent NA</th>\n",
       "    </tr>\n",
       "  </thead>\n",
       "  <tbody>\n",
       "  </tbody>\n",
       "</table>\n",
       "</div>"
      ],
      "text/plain": [
       "Empty DataFrame\n",
       "Columns: [Number of NA, Percent NA]\n",
       "Index: []"
      ]
     },
     "execution_count": 13,
     "metadata": {},
     "output_type": "execute_result"
    }
   ],
   "source": [
    "access_NA(df_car_t)"
   ]
  },
  {
   "cell_type": "code",
   "execution_count": 14,
   "metadata": {},
   "outputs": [],
   "source": [
    "corr = df_car_t.corr(method = 'spearman')"
   ]
  },
  {
   "cell_type": "code",
   "execution_count": 15,
   "metadata": {},
   "outputs": [
    {
     "data": {
      "image/png": "[encoded data removed]",
      "text/plain": [
       "<Figure size 720x576 with 2 Axes>"
      ]
     },
     "metadata": {
      "needs_background": "light"
     },
     "output_type": "display_data"
    }
   ],
   "source": [
    "plt.figure(figsize = (10, 8))\n",
    "sns.heatmap(corr.abs(), cmap = 'viridis')\n",
    "plt.show()"
   ]
  },
  {
   "cell_type": "code",
   "execution_count": 16,
   "metadata": {},
   "outputs": [
    {
     "data": {
      "text/html": [
       "<div>\n",
       "<style scoped>\n",
       "    .dataframe tbody tr th:only-of-type {\n",
       "        vertical-align: middle;\n",
       "    }\n",
       "\n",
       "    .dataframe tbody tr th {\n",
       "        vertical-align: top;\n",
       "    }\n",
       "\n",
       "    .dataframe thead th {\n",
       "        text-align: right;\n",
       "    }\n",
       "</style>\n",
       "<table border=\"1\" class=\"dataframe\">\n",
       "  <thead>\n",
       "    <tr style=\"text-align: right;\">\n",
       "      <th></th>\n",
       "      <th>level_0</th>\n",
       "      <th>level_1</th>\n",
       "      <th>correlation</th>\n",
       "    </tr>\n",
       "  </thead>\n",
       "  <tbody>\n",
       "    <tr>\n",
       "      <th>357</th>\n",
       "      <td>P_USER</td>\n",
       "      <td>P_PSN</td>\n",
       "      <td>0.739235</td>\n",
       "    </tr>\n",
       "    <tr>\n",
       "      <th>99</th>\n",
       "      <td>C_CONF</td>\n",
       "      <td>C_VEHS</td>\n",
       "      <td>0.568066</td>\n",
       "    </tr>\n",
       "    <tr>\n",
       "      <th>196</th>\n",
       "      <td>C_TRAF</td>\n",
       "      <td>C_RCFG</td>\n",
       "      <td>0.486168</td>\n",
       "    </tr>\n",
       "    <tr>\n",
       "      <th>159</th>\n",
       "      <td>C_RSUR</td>\n",
       "      <td>C_WTHR</td>\n",
       "      <td>0.430428</td>\n",
       "    </tr>\n",
       "    <tr>\n",
       "      <th>356</th>\n",
       "      <td>P_USER</td>\n",
       "      <td>P_AGE</td>\n",
       "      <td>0.252110</td>\n",
       "    </tr>\n",
       "    <tr>\n",
       "      <th>299</th>\n",
       "      <td>P_PSN</td>\n",
       "      <td>P_AGE</td>\n",
       "      <td>0.250801</td>\n",
       "    </tr>\n",
       "    <tr>\n",
       "      <th>195</th>\n",
       "      <td>C_TRAF</td>\n",
       "      <td>C_CONF</td>\n",
       "      <td>0.203634</td>\n",
       "    </tr>\n",
       "    <tr>\n",
       "      <th>308</th>\n",
       "      <td>P_ISEV</td>\n",
       "      <td>C_VEHS</td>\n",
       "      <td>0.192265</td>\n",
       "    </tr>\n",
       "    <tr>\n",
       "      <th>176</th>\n",
       "      <td>C_RALN</td>\n",
       "      <td>C_CONF</td>\n",
       "      <td>0.191684</td>\n",
       "    </tr>\n",
       "    <tr>\n",
       "      <th>213</th>\n",
       "      <td>V_TYPE</td>\n",
       "      <td>C_VEHS</td>\n",
       "      <td>0.183342</td>\n",
       "    </tr>\n",
       "    <tr>\n",
       "      <th>199</th>\n",
       "      <td>C_TRAF</td>\n",
       "      <td>C_RALN</td>\n",
       "      <td>0.181963</td>\n",
       "    </tr>\n",
       "    <tr>\n",
       "      <th>359</th>\n",
       "      <td>P_USER</td>\n",
       "      <td>P_SAFE</td>\n",
       "      <td>0.179246</td>\n",
       "    </tr>\n",
       "    <tr>\n",
       "      <th>339</th>\n",
       "      <td>P_SAFE</td>\n",
       "      <td>P_ISEV</td>\n",
       "      <td>0.178185</td>\n",
       "    </tr>\n",
       "    <tr>\n",
       "      <th>296</th>\n",
       "      <td>P_PSN</td>\n",
       "      <td>V_TYPE</td>\n",
       "      <td>0.174900</td>\n",
       "    </tr>\n",
       "    <tr>\n",
       "      <th>309</th>\n",
       "      <td>P_ISEV</td>\n",
       "      <td>C_CONF</td>\n",
       "      <td>0.174252</td>\n",
       "    </tr>\n",
       "    <tr>\n",
       "      <th>119</th>\n",
       "      <td>C_RCFG</td>\n",
       "      <td>C_CONF</td>\n",
       "      <td>0.166596</td>\n",
       "    </tr>\n",
       "    <tr>\n",
       "      <th>177</th>\n",
       "      <td>C_RALN</td>\n",
       "      <td>C_RCFG</td>\n",
       "      <td>0.161983</td>\n",
       "    </tr>\n",
       "    <tr>\n",
       "      <th>353</th>\n",
       "      <td>P_USER</td>\n",
       "      <td>V_TYPE</td>\n",
       "      <td>0.159011</td>\n",
       "    </tr>\n",
       "    <tr>\n",
       "      <th>297</th>\n",
       "      <td>P_PSN</td>\n",
       "      <td>V_YEAR</td>\n",
       "      <td>0.153576</td>\n",
       "    </tr>\n",
       "    <tr>\n",
       "      <th>214</th>\n",
       "      <td>V_TYPE</td>\n",
       "      <td>C_CONF</td>\n",
       "      <td>0.147297</td>\n",
       "    </tr>\n",
       "    <tr>\n",
       "      <th>298</th>\n",
       "      <td>P_PSN</td>\n",
       "      <td>P_SEX</td>\n",
       "      <td>0.144979</td>\n",
       "    </tr>\n",
       "    <tr>\n",
       "      <th>346</th>\n",
       "      <td>P_USER</td>\n",
       "      <td>C_VEHS</td>\n",
       "      <td>0.143776</td>\n",
       "    </tr>\n",
       "    <tr>\n",
       "      <th>194</th>\n",
       "      <td>C_TRAF</td>\n",
       "      <td>C_VEHS</td>\n",
       "      <td>0.141568</td>\n",
       "    </tr>\n",
       "    <tr>\n",
       "      <th>175</th>\n",
       "      <td>C_RALN</td>\n",
       "      <td>C_VEHS</td>\n",
       "      <td>0.141143</td>\n",
       "    </tr>\n",
       "    <tr>\n",
       "      <th>317</th>\n",
       "      <td>P_ISEV</td>\n",
       "      <td>P_SEX</td>\n",
       "      <td>0.138705</td>\n",
       "    </tr>\n",
       "    <tr>\n",
       "      <th>358</th>\n",
       "      <td>P_USER</td>\n",
       "      <td>P_ISEV</td>\n",
       "      <td>0.137564</td>\n",
       "    </tr>\n",
       "    <tr>\n",
       "      <th>338</th>\n",
       "      <td>P_SAFE</td>\n",
       "      <td>P_PSN</td>\n",
       "      <td>0.132098</td>\n",
       "    </tr>\n",
       "    <tr>\n",
       "      <th>157</th>\n",
       "      <td>C_RSUR</td>\n",
       "      <td>C_CONF</td>\n",
       "      <td>0.122087</td>\n",
       "    </tr>\n",
       "    <tr>\n",
       "      <th>198</th>\n",
       "      <td>C_TRAF</td>\n",
       "      <td>C_RSUR</td>\n",
       "      <td>0.121344</td>\n",
       "    </tr>\n",
       "    <tr>\n",
       "      <th>98</th>\n",
       "      <td>C_CONF</td>\n",
       "      <td>C_SEV</td>\n",
       "      <td>0.116271</td>\n",
       "    </tr>\n",
       "    <tr>\n",
       "      <th>289</th>\n",
       "      <td>P_PSN</td>\n",
       "      <td>C_VEHS</td>\n",
       "      <td>0.114330</td>\n",
       "    </tr>\n",
       "    <tr>\n",
       "      <th>307</th>\n",
       "      <td>P_ISEV</td>\n",
       "      <td>C_SEV</td>\n",
       "      <td>0.113084</td>\n",
       "    </tr>\n",
       "    <tr>\n",
       "      <th>355</th>\n",
       "      <td>P_USER</td>\n",
       "      <td>P_SEX</td>\n",
       "      <td>0.110507</td>\n",
       "    </tr>\n",
       "    <tr>\n",
       "      <th>158</th>\n",
       "      <td>C_RSUR</td>\n",
       "      <td>C_RCFG</td>\n",
       "      <td>0.106243</td>\n",
       "    </tr>\n",
       "    <tr>\n",
       "      <th>347</th>\n",
       "      <td>P_USER</td>\n",
       "      <td>C_CONF</td>\n",
       "      <td>0.102540</td>\n",
       "    </tr>\n",
       "    <tr>\n",
       "      <th>139</th>\n",
       "      <td>C_WTHR</td>\n",
       "      <td>C_RCFG</td>\n",
       "      <td>0.100637</td>\n",
       "    </tr>\n",
       "    <tr>\n",
       "      <th>118</th>\n",
       "      <td>C_RCFG</td>\n",
       "      <td>C_VEHS</td>\n",
       "      <td>0.100310</td>\n",
       "    </tr>\n",
       "  </tbody>\n",
       "</table>\n",
       "</div>"
      ],
      "text/plain": [
       "    level_0 level_1  correlation\n",
       "357  P_USER   P_PSN     0.739235\n",
       "99   C_CONF  C_VEHS     0.568066\n",
       "196  C_TRAF  C_RCFG     0.486168\n",
       "159  C_RSUR  C_WTHR     0.430428\n",
       "356  P_USER   P_AGE     0.252110\n",
       "299   P_PSN   P_AGE     0.250801\n",
       "195  C_TRAF  C_CONF     0.203634\n",
       "308  P_ISEV  C_VEHS     0.192265\n",
       "176  C_RALN  C_CONF     0.191684\n",
       "213  V_TYPE  C_VEHS     0.183342\n",
       "199  C_TRAF  C_RALN     0.181963\n",
       "359  P_USER  P_SAFE     0.179246\n",
       "339  P_SAFE  P_ISEV     0.178185\n",
       "296   P_PSN  V_TYPE     0.174900\n",
       "309  P_ISEV  C_CONF     0.174252\n",
       "119  C_RCFG  C_CONF     0.166596\n",
       "177  C_RALN  C_RCFG     0.161983\n",
       "353  P_USER  V_TYPE     0.159011\n",
       "297   P_PSN  V_YEAR     0.153576\n",
       "214  V_TYPE  C_CONF     0.147297\n",
       "298   P_PSN   P_SEX     0.144979\n",
       "346  P_USER  C_VEHS     0.143776\n",
       "194  C_TRAF  C_VEHS     0.141568\n",
       "175  C_RALN  C_VEHS     0.141143\n",
       "317  P_ISEV   P_SEX     0.138705\n",
       "358  P_USER  P_ISEV     0.137564\n",
       "338  P_SAFE   P_PSN     0.132098\n",
       "157  C_RSUR  C_CONF     0.122087\n",
       "198  C_TRAF  C_RSUR     0.121344\n",
       "98   C_CONF   C_SEV     0.116271\n",
       "289   P_PSN  C_VEHS     0.114330\n",
       "307  P_ISEV   C_SEV     0.113084\n",
       "355  P_USER   P_SEX     0.110507\n",
       "158  C_RSUR  C_RCFG     0.106243\n",
       "347  P_USER  C_CONF     0.102540\n",
       "139  C_WTHR  C_RCFG     0.100637\n",
       "118  C_RCFG  C_VEHS     0.100310"
      ]
     },
     "execution_count": 16,
     "metadata": {},
     "output_type": "execute_result"
    }
   ],
   "source": [
    "new_corr = corr.abs()\n",
    "new_corr.loc[:,:] = np.tril(new_corr, k=-1) \n",
    "new_corr = new_corr.stack().to_frame('correlation').reset_index().sort_values(by='correlation', ascending=False)\n",
    "new_corr[new_corr.correlation > 0.1]"
   ]
  },
  {
   "cell_type": "code",
   "execution_count": 17,
   "metadata": {},
   "outputs": [],
   "source": [
    "from imblearn.over_sampling import SMOTE\n",
    "from sklearn.model_selection import train_test_split"
   ]
  },
  {
   "cell_type": "code",
   "execution_count": 18,
   "metadata": {},
   "outputs": [],
   "source": [
    "# separamos la variable target del resto de variables\n",
    "X = df_car_t.drop('C_SEV', axis=1)\n",
    "Y = df_car_t.C_SEV"
   ]
  },
  {
   "cell_type": "code",
   "execution_count": 19,
   "metadata": {},
   "outputs": [],
   "source": [
    "xtrain, xtest, ytrain, ytest = train_test_split(X, Y, test_size=0.3, random_state=0)"
   ]
  },
  {
   "cell_type": "code",
   "execution_count": 20,
   "metadata": {},
   "outputs": [],
   "source": [
    "sm = SMOTE(random_state = 12345, n_jobs=-1, k_neighbors = 5, sampling_strategy=0.4)\n",
    "X_train_sampled, y_train_sampled =sm.fit_resample(xtrain, ytrain)\n",
    "X_train = pd.DataFrame(X_train_sampled, columns = xtrain.columns)"
   ]
  },
  {
   "cell_type": "code",
   "execution_count": null,
   "metadata": {},
   "outputs": [],
   "source": []
  },
  {
   "cell_type": "code",
   "execution_count": 21,
   "metadata": {},
   "outputs": [
    {
     "name": "stdout",
     "output_type": "stream",
     "text": [
      "5063801\n",
      "1576668\n",
      "5063801\n",
      "1576668\n"
     ]
    }
   ],
   "source": [
    "print(len(X_train))\n",
    "print(len(xtest))\n",
    "print(len(y_train_sampled))\n",
    "print(len(ytest))"
   ]
  },
  {
   "cell_type": "code",
   "execution_count": null,
   "metadata": {},
   "outputs": [],
   "source": []
  },
  {
   "cell_type": "code",
   "execution_count": null,
   "metadata": {},
   "outputs": [],
   "source": []
  },
  {
   "cell_type": "code",
   "execution_count": 22,
   "metadata": {},
   "outputs": [],
   "source": [
    "from sklearn.preprocessing import StandardScaler\n",
    "scaler = StandardScaler()\n",
    "model_scaled = scaler.fit(X_train)\n",
    "X_train_scaled = pd.DataFrame(scaler.transform(X_train), columns=X_train.columns, index=X_train.index)\n",
    "X_test_scaled = pd.DataFrame(scaler.transform(xtest), columns=xtest.columns, index=xtest.index)"
   ]
  },
  {
   "cell_type": "code",
   "execution_count": 23,
   "metadata": {},
   "outputs": [
    {
     "name": "stdout",
     "output_type": "stream",
     "text": [
      "5063801\n",
      "1576668\n",
      "5063801\n",
      "1576668\n"
     ]
    }
   ],
   "source": [
    "print(len(X_train_scaled))\n",
    "print(len(X_test_scaled))\n",
    "print(len(y_train_sampled))\n",
    "print(len(ytest))"
   ]
  },
  {
   "cell_type": "code",
   "execution_count": null,
   "metadata": {},
   "outputs": [],
   "source": []
  },
  {
   "cell_type": "code",
   "execution_count": null,
   "metadata": {},
   "outputs": [],
   "source": []
  },
  {
   "cell_type": "code",
   "execution_count": null,
   "metadata": {},
   "outputs": [],
   "source": []
  },
  {
   "cell_type": "code",
   "execution_count": 24,
   "metadata": {},
   "outputs": [],
   "source": [
    "##LASSO"
   ]
  },
  {
   "cell_type": "code",
   "execution_count": null,
   "metadata": {},
   "outputs": [],
   "source": [
    "from sklearn.linear_model import Lasso\n",
    "from sklearn.feature_selection import SelectFromModel\n",
    "from sklearn.linear_model import LogisticRegression\n",
    "\n",
    "sel_lasso = SelectFromModel(LogisticRegression(C=1, penalty='l1', \n",
    "                                          solver='liblinear'), threshold = 0.9) \n",
    "sel_lasso.fit(X_train_sampled, y_train_sampled)\n"
   ]
  },
  {
   "cell_type": "code",
   "execution_count": null,
   "metadata": {},
   "outputs": [],
   "source": [
    "sel_lasso.get_support()\n",
    "selected_feat_lasso = X_train_sampled.columns[sel_lasso.get_support()]\n",
    "selected_feat_lasso"
   ]
  },
  {
   "cell_type": "code",
   "execution_count": null,
   "metadata": {},
   "outputs": [],
   "source": [
    "print('total features: {}'.format((X_train_sampled.shape[1])))\n",
    "print('selected features: {}'.format(len(X_train)))"
   ]
  },
  {
   "cell_type": "code",
   "execution_count": null,
   "metadata": {},
   "outputs": [],
   "source": [
    "df_coeficientes_lasso = pd.DataFrame(\n",
    "                        {'predictor': X_train_sampled.columns,\n",
    "                         'coef': sel_lasso.estimator_.coef_.flatten()}\n",
    "                  )\n",
    "\n",
    "fig, ax = plt.subplots(figsize=(16, 3.84))\n",
    "ax.stem(df_coeficientes_lasso.predictor, df_coeficientes_lasso.coef, markerfmt=' ')\n",
    "plt.xticks(rotation=90, ha='right', size=10)\n",
    "ax.set_xlabel('variable')\n",
    "ax.set_ylabel('coeficientes')\n",
    "ax.set_title('Coeficientes del modelo lasso');"
   ]
  },
  {
   "cell_type": "code",
   "execution_count": null,
   "metadata": {},
   "outputs": [],
   "source": [
    "X_train_scaled = X_train_scaled[selected_feat_lasso]"
   ]
  },
  {
   "cell_type": "code",
   "execution_count": null,
   "metadata": {},
   "outputs": [],
   "source": [
    "X_test_scaled = X_test_scaled[selected_feat_lasso]"
   ]
  },
  {
   "cell_type": "code",
   "execution_count": null,
   "metadata": {},
   "outputs": [],
   "source": [
    "## Modelo GLM"
   ]
  },
  {
   "cell_type": "code",
   "execution_count": null,
   "metadata": {},
   "outputs": [],
   "source": [
    "glm = linear_model.LogisticRegression()"
   ]
  },
  {
   "cell_type": "code",
   "execution_count": null,
   "metadata": {},
   "outputs": [],
   "source": [
    "glm.fit(X_train_scaled, y_train_sampled)"
   ]
  },
  {
   "cell_type": "code",
   "execution_count": null,
   "metadata": {},
   "outputs": [],
   "source": [
    "LeadScore = glm.predict_proba(X_test_scaled)\n",
    "print(LeadScore)"
   ]
  },
  {
   "cell_type": "code",
   "execution_count": null,
   "metadata": {},
   "outputs": [],
   "source": [
    "pred = glm.predict(X_test_scaled)\n",
    "\n",
    "print(pred)"
   ]
  },
  {
   "cell_type": "code",
   "execution_count": null,
   "metadata": {},
   "outputs": [],
   "source": [
    "### Model Statistics"
   ]
  },
  {
   "cell_type": "code",
   "execution_count": null,
   "metadata": {},
   "outputs": [],
   "source": [
    "accuracy_score(ytest, pred)"
   ]
  },
  {
   "cell_type": "code",
   "execution_count": null,
   "metadata": {},
   "outputs": [],
   "source": [
    "print(classification_report(ytest, pred))"
   ]
  },
  {
   "cell_type": "code",
   "execution_count": null,
   "metadata": {},
   "outputs": [],
   "source": [
    "### Confusion Matrix"
   ]
  },
  {
   "cell_type": "code",
   "execution_count": null,
   "metadata": {},
   "outputs": [],
   "source": [
    "from sklearn.metrics import confusion_matrix"
   ]
  },
  {
   "cell_type": "code",
   "execution_count": null,
   "metadata": {},
   "outputs": [],
   "source": [
    "cm_glm = confusion_matrix(ytest, pred)\n",
    "\n",
    "plt.figure(figsize=(9,9))\n",
    "sns.heatmap(cm_xgb, annot=True, fmt=\".3f\", linewidths=.5, square = True, cmap = 'Blues_r');\n",
    "plt.ylabel('Actual label');"
   ]
  },
  {
   "cell_type": "code",
   "execution_count": null,
   "metadata": {},
   "outputs": [],
   "source": [
    "from sklearn.metrics import plot_confusion_matrix"
   ]
  },
  {
   "cell_type": "code",
   "execution_count": null,
   "metadata": {},
   "outputs": [],
   "source": [
    "titles_options = [(\"Confusion matrix, without normalization\", None),\n",
    "                  (\"Normalized confusion matrix\", 'true')]\n",
    "for title, normalize in titles_options:\n",
    "    disp = plot_confusion_matrix(cm_glm, X_test_scaled, ytest,\n",
    "                                 # display_labels=ytest,\n",
    "                                 cmap=plt.cm.Blues,\n",
    "                                 normalize=normalize)\n",
    "    disp.ax_.set_title(title)\n",
    "\n",
    "    print(title)\n",
    "    print(disp.confusion_matrix)\n",
    "\n",
    "plt.show()"
   ]
  },
  {
   "cell_type": "code",
   "execution_count": null,
   "metadata": {},
   "outputs": [],
   "source": [
    "### ROC Curve"
   ]
  },
  {
   "cell_type": "code",
   "execution_count": null,
   "metadata": {},
   "outputs": [],
   "source": [
    "metrics.plot_roc_curve(cm_glm, X_test_scaled, ytest)\n",
    "plt.show()"
   ]
  },
  {
   "cell_type": "code",
   "execution_count": null,
   "metadata": {},
   "outputs": [],
   "source": []
  },
  {
   "cell_type": "code",
   "execution_count": null,
   "metadata": {},
   "outputs": [],
   "source": [
    "predicted_probas = cm_glm.predict_proba(X_test_scaled)"
   ]
  },
  {
   "cell_type": "code",
   "execution_count": null,
   "metadata": {},
   "outputs": [],
   "source": [
    "skplt.metrics.plot_cumulative_gain(ytest, predicted_probas)\n",
    "plt.show()"
   ]
  },
  {
   "cell_type": "code",
   "execution_count": null,
   "metadata": {},
   "outputs": [],
   "source": [
    "### Lift Curve"
   ]
  },
  {
   "cell_type": "code",
   "execution_count": null,
   "metadata": {},
   "outputs": [],
   "source": [
    "skplt.metrics.plot_lift_curve(ytest, predicted_probas)\n",
    "plt.show()"
   ]
  },
  {
   "cell_type": "code",
   "execution_count": null,
   "metadata": {},
   "outputs": [],
   "source": [
    "### Histogram"
   ]
  },
  {
   "cell_type": "code",
   "execution_count": null,
   "metadata": {},
   "outputs": [],
   "source": [
    "y_pred_prob = predicted_probas[:, 1]\n",
    "\n",
    "plt.rcParams['font.size'] = 12\n",
    "plt.hist(y_pred_prob, bins=25,facecolor='royalblue', edgecolor = 'black')\n",
    "plt.xlim(0,1)\n",
    "plt.title('Histogram of predicted probabilities')\n",
    "plt.xlabel('Predicted probability')\n",
    "plt.ylabel('Frequency')"
   ]
  },
  {
   "cell_type": "code",
   "execution_count": null,
   "metadata": {},
   "outputs": [],
   "source": [
    "### Save the model "
   ]
  },
  {
   "cell_type": "code",
   "execution_count": null,
   "metadata": {},
   "outputs": [],
   "source": [
    "model = glm\n",
    "filename = 'GLM.sav'\n",
    "pickle.dump(model, open(filename, 'wb'))"
   ]
  },
  {
   "cell_type": "code",
   "execution_count": null,
   "metadata": {},
   "outputs": [],
   "source": [
    "filename3 = 'GLM.sav'\n",
    "LGB = pickle.load(open(filename3, 'rb'))\n",
    "pred = LGB.predict(X_test_scaled)\n",
    "accuracy_score(ytest, pred) "
   ]
  },
  {
   "cell_type": "code",
   "execution_count": null,
   "metadata": {},
   "outputs": [],
   "source": []
  },
  {
   "cell_type": "code",
   "execution_count": null,
   "metadata": {},
   "outputs": [],
   "source": []
  }
 ],
 "metadata": {
  "interpreter": {
   "hash": "ec2db0e6a0cfac1ce70841df038de22160a260bdc8b421418e70720619f258bc"
  },
  "kernelspec": {
   "display_name": "Python 3",
   "language": "python",
   "name": "python3"
  },
  "language_info": {
   "codemirror_mode": {
    "name": "ipython",
    "version": 3
   },
   "file_extension": ".py",
   "mimetype": "text/x-python",
   "name": "python",
   "nbconvert_exporter": "python",
   "pygments_lexer": "ipython3",
   "version": "3.8.8"
  }
 },
 "nbformat": 4,
 "nbformat_minor": 4
}
