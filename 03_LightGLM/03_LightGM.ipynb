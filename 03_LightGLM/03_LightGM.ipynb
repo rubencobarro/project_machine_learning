{
 "cells": [
  {
   "cell_type": "markdown",
   "metadata": {},
   "source": [
    "### MODELO LIGHTGBM\n",
    "\n",
    "# Rubén Cobarro Martínez"
   ]
  },
  {
   "cell_type": "markdown",
   "metadata": {},
   "source": [
    "# Importación de librerias"
   ]
  },
  {
   "cell_type": "markdown",
   "metadata": {},
   "source": [
    "import pandas as pd\n",
    "import matplotlib.pyplot as plt\n",
    "import numpy as np\n",
    "import seaborn as sns\n",
    "import plotly.express as px\n",
    "import scipy.stats as ss\n",
    "import warnings\n",
    "import category_encoders as ce\n",
    "from category_encoders.target_encoder import TargetEncoder"
   ]
  },
  {
   "cell_type": "code",
   "execution_count": 3,
   "metadata": {},
   "outputs": [],
   "source": [
    "\n",
    "import plotly.express as px\n",
    "import category_encoders as ce\n",
    "import xgboost as xgb\n",
    "from sklearn.model_selection import GridSearchCV\n",
    "from sklearn.metrics import accuracy_score\n",
    "from sklearn.metrics import confusion_matrix\n",
    "import scikitplot as skplt\n",
    "from sklearn.metrics import roc_auc_score, roc_curve, plot_roc_curve\n",
    "from sklearn import metrics\n",
    "from sklearn.metrics import classification_report\n",
    "\n",
    "import pickle "
   ]
  },
  {
   "cell_type": "markdown",
   "metadata": {},
   "source": [
    "# Lectura del CSV."
   ]
  },
  {
   "cell_type": "code",
   "execution_count": 4,
   "metadata": {},
   "outputs": [],
   "source": [
    "df_car = pd.read_csv('df_car.csv')"
   ]
  },
  {
   "cell_type": "code",
   "execution_count": 5,
   "metadata": {},
   "outputs": [
    {
     "data": {
      "text/html": [
       "<div>\n",
       "<style scoped>\n",
       "    .dataframe tbody tr th:only-of-type {\n",
       "        vertical-align: middle;\n",
       "    }\n",
       "\n",
       "    .dataframe tbody tr th {\n",
       "        vertical-align: top;\n",
       "    }\n",
       "\n",
       "    .dataframe thead th {\n",
       "        text-align: right;\n",
       "    }\n",
       "</style>\n",
       "<table border=\"1\" class=\"dataframe\">\n",
       "  <thead>\n",
       "    <tr style=\"text-align: right;\">\n",
       "      <th></th>\n",
       "      <th>Number of NA</th>\n",
       "      <th>Percent NA</th>\n",
       "    </tr>\n",
       "  </thead>\n",
       "  <tbody>\n",
       "    <tr>\n",
       "      <th>C_TRAF</th>\n",
       "      <td>223483</td>\n",
       "      <td>3.81</td>\n",
       "    </tr>\n",
       "    <tr>\n",
       "      <th>C_CONF</th>\n",
       "      <td>179019</td>\n",
       "      <td>3.05</td>\n",
       "    </tr>\n",
       "    <tr>\n",
       "      <th>P_USER</th>\n",
       "      <td>175586</td>\n",
       "      <td>3.00</td>\n",
       "    </tr>\n",
       "    <tr>\n",
       "      <th>C_WTHR</th>\n",
       "      <td>87975</td>\n",
       "      <td>1.50</td>\n",
       "    </tr>\n",
       "    <tr>\n",
       "      <th>C_RSUR</th>\n",
       "      <td>78451</td>\n",
       "      <td>1.34</td>\n",
       "    </tr>\n",
       "    <tr>\n",
       "      <th>P_PSN</th>\n",
       "      <td>57662</td>\n",
       "      <td>0.98</td>\n",
       "    </tr>\n",
       "    <tr>\n",
       "      <th>V_TYPE</th>\n",
       "      <td>29754</td>\n",
       "      <td>0.51</td>\n",
       "    </tr>\n",
       "    <tr>\n",
       "      <th>V_ID</th>\n",
       "      <td>433</td>\n",
       "      <td>0.01</td>\n",
       "    </tr>\n",
       "    <tr>\n",
       "      <th>P_ID</th>\n",
       "      <td>16</td>\n",
       "      <td>0.00</td>\n",
       "    </tr>\n",
       "  </tbody>\n",
       "</table>\n",
       "</div>"
      ],
      "text/plain": [
       "        Number of NA  Percent NA\n",
       "C_TRAF        223483        3.81\n",
       "C_CONF        179019        3.05\n",
       "P_USER        175586        3.00\n",
       "C_WTHR         87975        1.50\n",
       "C_RSUR         78451        1.34\n",
       "P_PSN          57662        0.98\n",
       "V_TYPE         29754        0.51\n",
       "V_ID             433        0.01\n",
       "P_ID              16        0.00"
      ]
     },
     "execution_count": 5,
     "metadata": {},
     "output_type": "execute_result"
    }
   ],
   "source": [
    "def access_NA(df_car):\n",
    "    \n",
    "    null_sum = df_car.isnull().sum()\n",
    "    total = null_sum.sort_values(ascending=False)\n",
    "    percent = ( ((null_sum / len(df_car.index))*100).round(2) ).sort_values(ascending=False)\n",
    "    \n",
    "    \n",
    "    data_car_na = pd.concat([total, percent], axis=1, keys=['Number of NA', 'Percent NA'])\n",
    "    \n",
    "    data_car_na = data_car_na[ (data_car_na.T != 0).any() ]\n",
    "    \n",
    "    return data_car_na\n",
    "\n",
    "access_NA(df_car)"
   ]
  },
  {
   "cell_type": "markdown",
   "metadata": {},
   "source": [
    "Eliminamos ciertas columnas como P_ID y V_ID que significas realmente el DNI o cualquier tipo de identificacion personal tanto para el conductor como hacia el vehiculo, ya que no tienen ningun peso para predecir el numero de accidentes y su fatalidad."
   ]
  },
  {
   "cell_type": "code",
   "execution_count": 6,
   "metadata": {},
   "outputs": [],
   "source": [
    "df_car = df_car.drop(['P_ID', 'V_ID', 'C_YEAR'], axis = 1)"
   ]
  },
  {
   "cell_type": "markdown",
   "metadata": {},
   "source": [
    "# Target Encoding\n",
    "\n",
    "Un motivo principal por el cual realizamos target encoding es debido a que contamos con un mayor numero de variables categoricas. Realizamos onehotencoding pero nos vimos obligados a recortar o eliminar columnas ya que algunas variables categoricas contaban con muchos valores para convertir a valores 0 y 1.\n",
    "Finalmente no lo hicimos por miedo a elimnar variables las cuales podrían ser determinantes mas adelante."
   ]
  },
  {
   "cell_type": "code",
   "execution_count": 7,
   "metadata": {},
   "outputs": [],
   "source": [
    "cat_data = df_car.select_dtypes(include = ['object', 'category']).columns"
   ]
  },
  {
   "cell_type": "code",
   "execution_count": 8,
   "metadata": {},
   "outputs": [
    {
     "data": {
      "text/plain": [
       "Index(['C_CONF', 'C_RCFG', 'C_WTHR', 'C_RSUR', 'C_RALN', 'C_TRAF', 'V_TYPE',\n",
       "       'P_SEX', 'P_PSN', 'P_ISEV', 'P_SAFE'],\n",
       "      dtype='object')"
      ]
     },
     "execution_count": 8,
     "metadata": {},
     "output_type": "execute_result"
    }
   ],
   "source": [
    "cat_data"
   ]
  },
  {
   "cell_type": "code",
   "execution_count": 9,
   "metadata": {},
   "outputs": [],
   "source": [
    "TE = ce.TargetEncoder(cols = cat_data)\n",
    "model = TE.fit(df_car, df_car['C_SEV'])"
   ]
  },
  {
   "cell_type": "code",
   "execution_count": 10,
   "metadata": {
    "scrolled": true
   },
   "outputs": [
    {
     "data": {
      "text/html": [
       "<div>\n",
       "<style scoped>\n",
       "    .dataframe tbody tr th:only-of-type {\n",
       "        vertical-align: middle;\n",
       "    }\n",
       "\n",
       "    .dataframe tbody tr th {\n",
       "        vertical-align: top;\n",
       "    }\n",
       "\n",
       "    .dataframe thead th {\n",
       "        text-align: right;\n",
       "    }\n",
       "</style>\n",
       "<table border=\"1\" class=\"dataframe\">\n",
       "  <thead>\n",
       "    <tr style=\"text-align: right;\">\n",
       "      <th></th>\n",
       "      <th>C_MNTH</th>\n",
       "      <th>C_WDAY</th>\n",
       "      <th>C_HOUR</th>\n",
       "      <th>C_SEV</th>\n",
       "      <th>C_VEHS</th>\n",
       "      <th>C_CONF</th>\n",
       "      <th>C_RCFG</th>\n",
       "      <th>C_WTHR</th>\n",
       "      <th>C_RSUR</th>\n",
       "      <th>C_RALN</th>\n",
       "      <th>C_TRAF</th>\n",
       "      <th>V_TYPE</th>\n",
       "      <th>V_YEAR</th>\n",
       "      <th>P_SEX</th>\n",
       "      <th>P_AGE</th>\n",
       "      <th>P_PSN</th>\n",
       "      <th>P_ISEV</th>\n",
       "      <th>P_SAFE</th>\n",
       "      <th>P_USER</th>\n",
       "    </tr>\n",
       "  </thead>\n",
       "  <tbody>\n",
       "    <tr>\n",
       "      <th>0</th>\n",
       "      <td>1</td>\n",
       "      <td>1</td>\n",
       "      <td>20</td>\n",
       "      <td>0</td>\n",
       "      <td>2</td>\n",
       "      <td>0.011981</td>\n",
       "      <td>0.010041</td>\n",
       "      <td>0.015971</td>\n",
       "      <td>0.018736</td>\n",
       "      <td>0.037152</td>\n",
       "      <td>0.013492</td>\n",
       "      <td>0.024206</td>\n",
       "      <td>1990</td>\n",
       "      <td>0.019869</td>\n",
       "      <td>41</td>\n",
       "      <td>0.014568</td>\n",
       "      <td>0.008489</td>\n",
       "      <td>0.013672</td>\n",
       "      <td>1.0</td>\n",
       "    </tr>\n",
       "    <tr>\n",
       "      <th>1</th>\n",
       "      <td>1</td>\n",
       "      <td>1</td>\n",
       "      <td>20</td>\n",
       "      <td>0</td>\n",
       "      <td>2</td>\n",
       "      <td>0.011981</td>\n",
       "      <td>0.010041</td>\n",
       "      <td>0.015971</td>\n",
       "      <td>0.018736</td>\n",
       "      <td>0.037152</td>\n",
       "      <td>0.013492</td>\n",
       "      <td>0.014276</td>\n",
       "      <td>1987</td>\n",
       "      <td>0.019869</td>\n",
       "      <td>19</td>\n",
       "      <td>0.014568</td>\n",
       "      <td>0.008489</td>\n",
       "      <td>0.013672</td>\n",
       "      <td>1.0</td>\n",
       "    </tr>\n",
       "    <tr>\n",
       "      <th>2</th>\n",
       "      <td>1</td>\n",
       "      <td>1</td>\n",
       "      <td>20</td>\n",
       "      <td>0</td>\n",
       "      <td>2</td>\n",
       "      <td>0.011981</td>\n",
       "      <td>0.010041</td>\n",
       "      <td>0.015971</td>\n",
       "      <td>0.018736</td>\n",
       "      <td>0.037152</td>\n",
       "      <td>0.013492</td>\n",
       "      <td>0.014276</td>\n",
       "      <td>1987</td>\n",
       "      <td>0.012573</td>\n",
       "      <td>20</td>\n",
       "      <td>0.018360</td>\n",
       "      <td>0.011078</td>\n",
       "      <td>0.013672</td>\n",
       "      <td>2.0</td>\n",
       "    </tr>\n",
       "    <tr>\n",
       "      <th>3</th>\n",
       "      <td>1</td>\n",
       "      <td>1</td>\n",
       "      <td>8</td>\n",
       "      <td>0</td>\n",
       "      <td>1</td>\n",
       "      <td>0.031559</td>\n",
       "      <td>0.010041</td>\n",
       "      <td>0.026706</td>\n",
       "      <td>0.018832</td>\n",
       "      <td>0.036560</td>\n",
       "      <td>0.024120</td>\n",
       "      <td>0.014276</td>\n",
       "      <td>1986</td>\n",
       "      <td>0.019869</td>\n",
       "      <td>46</td>\n",
       "      <td>0.014568</td>\n",
       "      <td>0.008489</td>\n",
       "      <td>0.013672</td>\n",
       "      <td>1.0</td>\n",
       "    </tr>\n",
       "    <tr>\n",
       "      <th>4</th>\n",
       "      <td>1</td>\n",
       "      <td>1</td>\n",
       "      <td>8</td>\n",
       "      <td>0</td>\n",
       "      <td>1</td>\n",
       "      <td>0.031559</td>\n",
       "      <td>0.010041</td>\n",
       "      <td>0.026706</td>\n",
       "      <td>0.018832</td>\n",
       "      <td>0.036560</td>\n",
       "      <td>0.024120</td>\n",
       "      <td>0.028647</td>\n",
       "      <td>2000</td>\n",
       "      <td>0.019869</td>\n",
       "      <td>5</td>\n",
       "      <td>0.028939</td>\n",
       "      <td>0.011078</td>\n",
       "      <td>0.013672</td>\n",
       "      <td>3.0</td>\n",
       "    </tr>\n",
       "    <tr>\n",
       "      <th>...</th>\n",
       "      <td>...</td>\n",
       "      <td>...</td>\n",
       "      <td>...</td>\n",
       "      <td>...</td>\n",
       "      <td>...</td>\n",
       "      <td>...</td>\n",
       "      <td>...</td>\n",
       "      <td>...</td>\n",
       "      <td>...</td>\n",
       "      <td>...</td>\n",
       "      <td>...</td>\n",
       "      <td>...</td>\n",
       "      <td>...</td>\n",
       "      <td>...</td>\n",
       "      <td>...</td>\n",
       "      <td>...</td>\n",
       "      <td>...</td>\n",
       "      <td>...</td>\n",
       "      <td>...</td>\n",
       "    </tr>\n",
       "    <tr>\n",
       "      <th>5860400</th>\n",
       "      <td>8</td>\n",
       "      <td>5</td>\n",
       "      <td>16</td>\n",
       "      <td>0</td>\n",
       "      <td>2</td>\n",
       "      <td>0.014127</td>\n",
       "      <td>0.027761</td>\n",
       "      <td>0.008900</td>\n",
       "      <td>0.010223</td>\n",
       "      <td>0.013326</td>\n",
       "      <td>0.014390</td>\n",
       "      <td>0.037169</td>\n",
       "      <td>2000</td>\n",
       "      <td>0.019869</td>\n",
       "      <td>24</td>\n",
       "      <td>0.014568</td>\n",
       "      <td>0.008489</td>\n",
       "      <td>0.014356</td>\n",
       "      <td>1.0</td>\n",
       "    </tr>\n",
       "    <tr>\n",
       "      <th>5860401</th>\n",
       "      <td>8</td>\n",
       "      <td>5</td>\n",
       "      <td>23</td>\n",
       "      <td>0</td>\n",
       "      <td>1</td>\n",
       "      <td>0.025422</td>\n",
       "      <td>0.022697</td>\n",
       "      <td>0.015971</td>\n",
       "      <td>0.016910</td>\n",
       "      <td>0.013326</td>\n",
       "      <td>0.024120</td>\n",
       "      <td>0.030024</td>\n",
       "      <td>2006</td>\n",
       "      <td>0.019869</td>\n",
       "      <td>29</td>\n",
       "      <td>0.048233</td>\n",
       "      <td>0.011078</td>\n",
       "      <td>0.030206</td>\n",
       "      <td>5.0</td>\n",
       "    </tr>\n",
       "    <tr>\n",
       "      <th>5860402</th>\n",
       "      <td>8</td>\n",
       "      <td>5</td>\n",
       "      <td>14</td>\n",
       "      <td>0</td>\n",
       "      <td>1</td>\n",
       "      <td>0.024634</td>\n",
       "      <td>0.027761</td>\n",
       "      <td>0.015971</td>\n",
       "      <td>0.018736</td>\n",
       "      <td>0.040331</td>\n",
       "      <td>0.024120</td>\n",
       "      <td>0.014276</td>\n",
       "      <td>2006</td>\n",
       "      <td>0.012573</td>\n",
       "      <td>36</td>\n",
       "      <td>0.014568</td>\n",
       "      <td>0.011078</td>\n",
       "      <td>0.081130</td>\n",
       "      <td>1.0</td>\n",
       "    </tr>\n",
       "    <tr>\n",
       "      <th>5860403</th>\n",
       "      <td>8</td>\n",
       "      <td>5</td>\n",
       "      <td>22</td>\n",
       "      <td>1</td>\n",
       "      <td>1</td>\n",
       "      <td>0.025422</td>\n",
       "      <td>0.027761</td>\n",
       "      <td>0.020859</td>\n",
       "      <td>0.021557</td>\n",
       "      <td>0.010244</td>\n",
       "      <td>0.024120</td>\n",
       "      <td>0.070696</td>\n",
       "      <td>2000</td>\n",
       "      <td>0.019869</td>\n",
       "      <td>67</td>\n",
       "      <td>0.020588</td>\n",
       "      <td>1.000000</td>\n",
       "      <td>0.081130</td>\n",
       "      <td>NaN</td>\n",
       "    </tr>\n",
       "    <tr>\n",
       "      <th>5860404</th>\n",
       "      <td>8</td>\n",
       "      <td>5</td>\n",
       "      <td>22</td>\n",
       "      <td>1</td>\n",
       "      <td>1</td>\n",
       "      <td>0.025422</td>\n",
       "      <td>0.027761</td>\n",
       "      <td>0.020859</td>\n",
       "      <td>0.021557</td>\n",
       "      <td>0.010244</td>\n",
       "      <td>0.024120</td>\n",
       "      <td>0.070696</td>\n",
       "      <td>2000</td>\n",
       "      <td>0.019869</td>\n",
       "      <td>10</td>\n",
       "      <td>0.028537</td>\n",
       "      <td>0.008489</td>\n",
       "      <td>0.081130</td>\n",
       "      <td>NaN</td>\n",
       "    </tr>\n",
       "  </tbody>\n",
       "</table>\n",
       "<p>5860405 rows × 19 columns</p>\n",
       "</div>"
      ],
      "text/plain": [
       "         C_MNTH  C_WDAY  C_HOUR  C_SEV  C_VEHS    C_CONF    C_RCFG    C_WTHR  \\\n",
       "0             1       1      20      0       2  0.011981  0.010041  0.015971   \n",
       "1             1       1      20      0       2  0.011981  0.010041  0.015971   \n",
       "2             1       1      20      0       2  0.011981  0.010041  0.015971   \n",
       "3             1       1       8      0       1  0.031559  0.010041  0.026706   \n",
       "4             1       1       8      0       1  0.031559  0.010041  0.026706   \n",
       "...         ...     ...     ...    ...     ...       ...       ...       ...   \n",
       "5860400       8       5      16      0       2  0.014127  0.027761  0.008900   \n",
       "5860401       8       5      23      0       1  0.025422  0.022697  0.015971   \n",
       "5860402       8       5      14      0       1  0.024634  0.027761  0.015971   \n",
       "5860403       8       5      22      1       1  0.025422  0.027761  0.020859   \n",
       "5860404       8       5      22      1       1  0.025422  0.027761  0.020859   \n",
       "\n",
       "           C_RSUR    C_RALN    C_TRAF    V_TYPE  V_YEAR     P_SEX  P_AGE  \\\n",
       "0        0.018736  0.037152  0.013492  0.024206    1990  0.019869     41   \n",
       "1        0.018736  0.037152  0.013492  0.014276    1987  0.019869     19   \n",
       "2        0.018736  0.037152  0.013492  0.014276    1987  0.012573     20   \n",
       "3        0.018832  0.036560  0.024120  0.014276    1986  0.019869     46   \n",
       "4        0.018832  0.036560  0.024120  0.028647    2000  0.019869      5   \n",
       "...           ...       ...       ...       ...     ...       ...    ...   \n",
       "5860400  0.010223  0.013326  0.014390  0.037169    2000  0.019869     24   \n",
       "5860401  0.016910  0.013326  0.024120  0.030024    2006  0.019869     29   \n",
       "5860402  0.018736  0.040331  0.024120  0.014276    2006  0.012573     36   \n",
       "5860403  0.021557  0.010244  0.024120  0.070696    2000  0.019869     67   \n",
       "5860404  0.021557  0.010244  0.024120  0.070696    2000  0.019869     10   \n",
       "\n",
       "            P_PSN    P_ISEV    P_SAFE  P_USER  \n",
       "0        0.014568  0.008489  0.013672     1.0  \n",
       "1        0.014568  0.008489  0.013672     1.0  \n",
       "2        0.018360  0.011078  0.013672     2.0  \n",
       "3        0.014568  0.008489  0.013672     1.0  \n",
       "4        0.028939  0.011078  0.013672     3.0  \n",
       "...           ...       ...       ...     ...  \n",
       "5860400  0.014568  0.008489  0.014356     1.0  \n",
       "5860401  0.048233  0.011078  0.030206     5.0  \n",
       "5860402  0.014568  0.011078  0.081130     1.0  \n",
       "5860403  0.020588  1.000000  0.081130     NaN  \n",
       "5860404  0.028537  0.008489  0.081130     NaN  \n",
       "\n",
       "[5860405 rows x 19 columns]"
      ]
     },
     "execution_count": 10,
     "metadata": {},
     "output_type": "execute_result"
    }
   ],
   "source": [
    "df_car_t = model.transform(df_car)\n",
    "df_car_t"
   ]
  },
  {
   "cell_type": "code",
   "execution_count": 11,
   "metadata": {
    "scrolled": true
   },
   "outputs": [
    {
     "data": {
      "text/html": [
       "<div>\n",
       "<style scoped>\n",
       "    .dataframe tbody tr th:only-of-type {\n",
       "        vertical-align: middle;\n",
       "    }\n",
       "\n",
       "    .dataframe tbody tr th {\n",
       "        vertical-align: top;\n",
       "    }\n",
       "\n",
       "    .dataframe thead th {\n",
       "        text-align: right;\n",
       "    }\n",
       "</style>\n",
       "<table border=\"1\" class=\"dataframe\">\n",
       "  <thead>\n",
       "    <tr style=\"text-align: right;\">\n",
       "      <th></th>\n",
       "      <th>Number of NA</th>\n",
       "      <th>Percent NA</th>\n",
       "    </tr>\n",
       "  </thead>\n",
       "  <tbody>\n",
       "    <tr>\n",
       "      <th>P_USER</th>\n",
       "      <td>175586</td>\n",
       "      <td>3.0</td>\n",
       "    </tr>\n",
       "  </tbody>\n",
       "</table>\n",
       "</div>"
      ],
      "text/plain": [
       "        Number of NA  Percent NA\n",
       "P_USER        175586         3.0"
      ]
     },
     "execution_count": 11,
     "metadata": {},
     "output_type": "execute_result"
    }
   ],
   "source": [
    "access_NA(df_car_t)"
   ]
  },
  {
   "cell_type": "markdown",
   "metadata": {},
   "source": [
    "Observamos que solo dos variables siguen teniendo missing values. Como P_USER cuenta con un porcentaje del 3% de valores missing sobre el total de sus valores, decidimos modificar dichos valores por la moda, es decir, el valor mas repetido.\n",
    "\n",
    "Con la variable restante. al contar con un porcentaje casi insignificante decidimos eliminarlos del dataset."
   ]
  },
  {
   "cell_type": "code",
   "execution_count": 12,
   "metadata": {},
   "outputs": [
    {
     "data": {
      "text/plain": [
       "array([1., 2., 3., 4., 5.])"
      ]
     },
     "execution_count": 12,
     "metadata": {},
     "output_type": "execute_result"
    }
   ],
   "source": [
    "df_car_t['P_USER'] = df_car_t['P_USER'].fillna((df_car_t['P_USER'].mode()[0]))\n",
    "df_car_t['P_USER'].unique()"
   ]
  },
  {
   "cell_type": "code",
   "execution_count": 13,
   "metadata": {},
   "outputs": [],
   "source": [
    "df_car_t = df_car_t.dropna()"
   ]
  },
  {
   "cell_type": "code",
   "execution_count": 14,
   "metadata": {},
   "outputs": [
    {
     "data": {
      "text/html": [
       "<div>\n",
       "<style scoped>\n",
       "    .dataframe tbody tr th:only-of-type {\n",
       "        vertical-align: middle;\n",
       "    }\n",
       "\n",
       "    .dataframe tbody tr th {\n",
       "        vertical-align: top;\n",
       "    }\n",
       "\n",
       "    .dataframe thead th {\n",
       "        text-align: right;\n",
       "    }\n",
       "</style>\n",
       "<table border=\"1\" class=\"dataframe\">\n",
       "  <thead>\n",
       "    <tr style=\"text-align: right;\">\n",
       "      <th></th>\n",
       "      <th>Number of NA</th>\n",
       "      <th>Percent NA</th>\n",
       "    </tr>\n",
       "  </thead>\n",
       "  <tbody>\n",
       "  </tbody>\n",
       "</table>\n",
       "</div>"
      ],
      "text/plain": [
       "Empty DataFrame\n",
       "Columns: [Number of NA, Percent NA]\n",
       "Index: []"
      ]
     },
     "execution_count": 14,
     "metadata": {},
     "output_type": "execute_result"
    }
   ],
   "source": [
    "access_NA(df_car_t)"
   ]
  },
  {
   "cell_type": "markdown",
   "metadata": {},
   "source": [
    "# Correlacion\n",
    "\n",
    "Tras convertir todo el data set en variables continuas (numéricas), decidimos hacer una correlacion spearman la cual nos mostrara de manera visual y generalizada las correlaciones de todas las variables entre sí."
   ]
  },
  {
   "cell_type": "code",
   "execution_count": 14,
   "metadata": {},
   "outputs": [],
   "source": [
    "corr = df_car_t.corr(method = 'spearman')"
   ]
  },
  {
   "cell_type": "code",
   "execution_count": 15,
   "metadata": {},
   "outputs": [
    {
     "data": {
      "image/png": "[encoded data removed]",
      "text/plain": [
       "<Figure size 720x576 with 2 Axes>"
      ]
     },
     "metadata": {
      "needs_background": "light"
     },
     "output_type": "display_data"
    }
   ],
   "source": [
    "plt.figure(figsize = (10, 8))\n",
    "sns.heatmap(corr.abs(), cmap = 'viridis')\n",
    "plt.show()"
   ]
  },
  {
   "cell_type": "code",
   "execution_count": 16,
   "metadata": {},
   "outputs": [
    {
     "data": {
      "text/html": [
       "<div>\n",
       "<style scoped>\n",
       "    .dataframe tbody tr th:only-of-type {\n",
       "        vertical-align: middle;\n",
       "    }\n",
       "\n",
       "    .dataframe tbody tr th {\n",
       "        vertical-align: top;\n",
       "    }\n",
       "\n",
       "    .dataframe thead th {\n",
       "        text-align: right;\n",
       "    }\n",
       "</style>\n",
       "<table border=\"1\" class=\"dataframe\">\n",
       "  <thead>\n",
       "    <tr style=\"text-align: right;\">\n",
       "      <th></th>\n",
       "      <th>level_0</th>\n",
       "      <th>level_1</th>\n",
       "      <th>correlation</th>\n",
       "    </tr>\n",
       "  </thead>\n",
       "  <tbody>\n",
       "    <tr>\n",
       "      <th>357</th>\n",
       "      <td>P_USER</td>\n",
       "      <td>P_PSN</td>\n",
       "      <td>0.806448</td>\n",
       "    </tr>\n",
       "    <tr>\n",
       "      <th>99</th>\n",
       "      <td>C_CONF</td>\n",
       "      <td>C_VEHS</td>\n",
       "      <td>0.569530</td>\n",
       "    </tr>\n",
       "    <tr>\n",
       "      <th>196</th>\n",
       "      <td>C_TRAF</td>\n",
       "      <td>C_RCFG</td>\n",
       "      <td>0.476038</td>\n",
       "    </tr>\n",
       "    <tr>\n",
       "      <th>159</th>\n",
       "      <td>C_RSUR</td>\n",
       "      <td>C_WTHR</td>\n",
       "      <td>0.431270</td>\n",
       "    </tr>\n",
       "    <tr>\n",
       "      <th>299</th>\n",
       "      <td>P_PSN</td>\n",
       "      <td>P_AGE</td>\n",
       "      <td>0.252754</td>\n",
       "    </tr>\n",
       "    <tr>\n",
       "      <th>356</th>\n",
       "      <td>P_USER</td>\n",
       "      <td>P_AGE</td>\n",
       "      <td>0.246080</td>\n",
       "    </tr>\n",
       "    <tr>\n",
       "      <th>359</th>\n",
       "      <td>P_USER</td>\n",
       "      <td>P_SAFE</td>\n",
       "      <td>0.232074</td>\n",
       "    </tr>\n",
       "    <tr>\n",
       "      <th>334</th>\n",
       "      <td>P_SAFE</td>\n",
       "      <td>V_TYPE</td>\n",
       "      <td>0.208211</td>\n",
       "    </tr>\n",
       "    <tr>\n",
       "      <th>308</th>\n",
       "      <td>P_ISEV</td>\n",
       "      <td>C_VEHS</td>\n",
       "      <td>0.196764</td>\n",
       "    </tr>\n",
       "    <tr>\n",
       "      <th>195</th>\n",
       "      <td>C_TRAF</td>\n",
       "      <td>C_CONF</td>\n",
       "      <td>0.194745</td>\n",
       "    </tr>\n",
       "    <tr>\n",
       "      <th>176</th>\n",
       "      <td>C_RALN</td>\n",
       "      <td>C_CONF</td>\n",
       "      <td>0.187619</td>\n",
       "    </tr>\n",
       "    <tr>\n",
       "      <th>296</th>\n",
       "      <td>P_PSN</td>\n",
       "      <td>V_TYPE</td>\n",
       "      <td>0.182475</td>\n",
       "    </tr>\n",
       "    <tr>\n",
       "      <th>213</th>\n",
       "      <td>V_TYPE</td>\n",
       "      <td>C_VEHS</td>\n",
       "      <td>0.182103</td>\n",
       "    </tr>\n",
       "    <tr>\n",
       "      <th>309</th>\n",
       "      <td>P_ISEV</td>\n",
       "      <td>C_CONF</td>\n",
       "      <td>0.179294</td>\n",
       "    </tr>\n",
       "    <tr>\n",
       "      <th>199</th>\n",
       "      <td>C_TRAF</td>\n",
       "      <td>C_RALN</td>\n",
       "      <td>0.172090</td>\n",
       "    </tr>\n",
       "    <tr>\n",
       "      <th>119</th>\n",
       "      <td>C_RCFG</td>\n",
       "      <td>C_CONF</td>\n",
       "      <td>0.165149</td>\n",
       "    </tr>\n",
       "    <tr>\n",
       "      <th>328</th>\n",
       "      <td>P_SAFE</td>\n",
       "      <td>C_CONF</td>\n",
       "      <td>0.164205</td>\n",
       "    </tr>\n",
       "    <tr>\n",
       "      <th>177</th>\n",
       "      <td>C_RALN</td>\n",
       "      <td>C_RCFG</td>\n",
       "      <td>0.163923</td>\n",
       "    </tr>\n",
       "    <tr>\n",
       "      <th>327</th>\n",
       "      <td>P_SAFE</td>\n",
       "      <td>C_VEHS</td>\n",
       "      <td>0.148658</td>\n",
       "    </tr>\n",
       "    <tr>\n",
       "      <th>298</th>\n",
       "      <td>P_PSN</td>\n",
       "      <td>P_SEX</td>\n",
       "      <td>0.146051</td>\n",
       "    </tr>\n",
       "    <tr>\n",
       "      <th>214</th>\n",
       "      <td>V_TYPE</td>\n",
       "      <td>C_CONF</td>\n",
       "      <td>0.145633</td>\n",
       "    </tr>\n",
       "    <tr>\n",
       "      <th>317</th>\n",
       "      <td>P_ISEV</td>\n",
       "      <td>P_SEX</td>\n",
       "      <td>0.142135</td>\n",
       "    </tr>\n",
       "    <tr>\n",
       "      <th>346</th>\n",
       "      <td>P_USER</td>\n",
       "      <td>C_VEHS</td>\n",
       "      <td>0.141295</td>\n",
       "    </tr>\n",
       "    <tr>\n",
       "      <th>353</th>\n",
       "      <td>P_USER</td>\n",
       "      <td>V_TYPE</td>\n",
       "      <td>0.140902</td>\n",
       "    </tr>\n",
       "    <tr>\n",
       "      <th>358</th>\n",
       "      <td>P_USER</td>\n",
       "      <td>P_ISEV</td>\n",
       "      <td>0.140862</td>\n",
       "    </tr>\n",
       "    <tr>\n",
       "      <th>175</th>\n",
       "      <td>C_RALN</td>\n",
       "      <td>C_VEHS</td>\n",
       "      <td>0.139328</td>\n",
       "    </tr>\n",
       "    <tr>\n",
       "      <th>194</th>\n",
       "      <td>C_TRAF</td>\n",
       "      <td>C_VEHS</td>\n",
       "      <td>0.133705</td>\n",
       "    </tr>\n",
       "    <tr>\n",
       "      <th>289</th>\n",
       "      <td>P_PSN</td>\n",
       "      <td>C_VEHS</td>\n",
       "      <td>0.130616</td>\n",
       "    </tr>\n",
       "    <tr>\n",
       "      <th>157</th>\n",
       "      <td>C_RSUR</td>\n",
       "      <td>C_CONF</td>\n",
       "      <td>0.119061</td>\n",
       "    </tr>\n",
       "    <tr>\n",
       "      <th>355</th>\n",
       "      <td>P_USER</td>\n",
       "      <td>P_SEX</td>\n",
       "      <td>0.118863</td>\n",
       "    </tr>\n",
       "    <tr>\n",
       "      <th>198</th>\n",
       "      <td>C_TRAF</td>\n",
       "      <td>C_RSUR</td>\n",
       "      <td>0.113807</td>\n",
       "    </tr>\n",
       "    <tr>\n",
       "      <th>98</th>\n",
       "      <td>C_CONF</td>\n",
       "      <td>C_SEV</td>\n",
       "      <td>0.113449</td>\n",
       "    </tr>\n",
       "    <tr>\n",
       "      <th>307</th>\n",
       "      <td>P_ISEV</td>\n",
       "      <td>C_SEV</td>\n",
       "      <td>0.112825</td>\n",
       "    </tr>\n",
       "    <tr>\n",
       "      <th>336</th>\n",
       "      <td>P_SAFE</td>\n",
       "      <td>P_SEX</td>\n",
       "      <td>0.108115</td>\n",
       "    </tr>\n",
       "    <tr>\n",
       "      <th>338</th>\n",
       "      <td>P_SAFE</td>\n",
       "      <td>P_PSN</td>\n",
       "      <td>0.107313</td>\n",
       "    </tr>\n",
       "    <tr>\n",
       "      <th>158</th>\n",
       "      <td>C_RSUR</td>\n",
       "      <td>C_RCFG</td>\n",
       "      <td>0.105321</td>\n",
       "    </tr>\n",
       "    <tr>\n",
       "      <th>138</th>\n",
       "      <td>C_WTHR</td>\n",
       "      <td>C_CONF</td>\n",
       "      <td>0.104169</td>\n",
       "    </tr>\n",
       "    <tr>\n",
       "      <th>139</th>\n",
       "      <td>C_WTHR</td>\n",
       "      <td>C_RCFG</td>\n",
       "      <td>0.103740</td>\n",
       "    </tr>\n",
       "    <tr>\n",
       "      <th>118</th>\n",
       "      <td>C_RCFG</td>\n",
       "      <td>C_VEHS</td>\n",
       "      <td>0.101357</td>\n",
       "    </tr>\n",
       "  </tbody>\n",
       "</table>\n",
       "</div>"
      ],
      "text/plain": [
       "    level_0 level_1  correlation\n",
       "357  P_USER   P_PSN     0.806448\n",
       "99   C_CONF  C_VEHS     0.569530\n",
       "196  C_TRAF  C_RCFG     0.476038\n",
       "159  C_RSUR  C_WTHR     0.431270\n",
       "299   P_PSN   P_AGE     0.252754\n",
       "356  P_USER   P_AGE     0.246080\n",
       "359  P_USER  P_SAFE     0.232074\n",
       "334  P_SAFE  V_TYPE     0.208211\n",
       "308  P_ISEV  C_VEHS     0.196764\n",
       "195  C_TRAF  C_CONF     0.194745\n",
       "176  C_RALN  C_CONF     0.187619\n",
       "296   P_PSN  V_TYPE     0.182475\n",
       "213  V_TYPE  C_VEHS     0.182103\n",
       "309  P_ISEV  C_CONF     0.179294\n",
       "199  C_TRAF  C_RALN     0.172090\n",
       "119  C_RCFG  C_CONF     0.165149\n",
       "328  P_SAFE  C_CONF     0.164205\n",
       "177  C_RALN  C_RCFG     0.163923\n",
       "327  P_SAFE  C_VEHS     0.148658\n",
       "298   P_PSN   P_SEX     0.146051\n",
       "214  V_TYPE  C_CONF     0.145633\n",
       "317  P_ISEV   P_SEX     0.142135\n",
       "346  P_USER  C_VEHS     0.141295\n",
       "353  P_USER  V_TYPE     0.140902\n",
       "358  P_USER  P_ISEV     0.140862\n",
       "175  C_RALN  C_VEHS     0.139328\n",
       "194  C_TRAF  C_VEHS     0.133705\n",
       "289   P_PSN  C_VEHS     0.130616\n",
       "157  C_RSUR  C_CONF     0.119061\n",
       "355  P_USER   P_SEX     0.118863\n",
       "198  C_TRAF  C_RSUR     0.113807\n",
       "98   C_CONF   C_SEV     0.113449\n",
       "307  P_ISEV   C_SEV     0.112825\n",
       "336  P_SAFE   P_SEX     0.108115\n",
       "338  P_SAFE   P_PSN     0.107313\n",
       "158  C_RSUR  C_RCFG     0.105321\n",
       "138  C_WTHR  C_CONF     0.104169\n",
       "139  C_WTHR  C_RCFG     0.103740\n",
       "118  C_RCFG  C_VEHS     0.101357"
      ]
     },
     "execution_count": 16,
     "metadata": {},
     "output_type": "execute_result"
    }
   ],
   "source": [
    "new_corr = corr.abs()\n",
    "new_corr.loc[:,:] = np.tril(new_corr, k=-1) \n",
    "new_corr = new_corr.stack().to_frame('correlation').reset_index().sort_values(by='correlation', ascending=False)\n",
    "new_corr[new_corr.correlation > 0.1]"
   ]
  },
  {
   "cell_type": "markdown",
   "metadata": {},
   "source": [
    "# Sampling variable C_SEV"
   ]
  },
  {
   "cell_type": "code",
   "execution_count": 15,
   "metadata": {},
   "outputs": [],
   "source": [
    "from imblearn.over_sampling import SMOTE\n",
    "from sklearn.model_selection import train_test_split"
   ]
  },
  {
   "cell_type": "markdown",
   "metadata": {},
   "source": [
    "Como ya vimos en el analisis EDA, es facilmente apreciable la gran diferencia del computo total de valores 0 y 1 en la variable objetivo. Este caso puede afectar a predecir peor los ceros y unos, por esta razon realizaremos un aumento del valor menor para compensar esa diferencia y reducir la brecha entre ambos valores.\n",
    "\n",
    "Primeramente aislaremos la variable traget del resto del data set"
   ]
  },
  {
   "cell_type": "code",
   "execution_count": 16,
   "metadata": {},
   "outputs": [],
   "source": [
    "X = df_car_t.drop('C_SEV', axis=1)\n",
    "Y = df_car_t.C_SEV"
   ]
  },
  {
   "cell_type": "markdown",
   "metadata": {},
   "source": [
    "Realizamos un split de los vectores antes creados donde train sera la muestra completa menos el porcentaje que asignamos a xtest para testear os resultados de xtrain. Realizamos el mismo proceso para la variable target."
   ]
  },
  {
   "cell_type": "code",
   "execution_count": 17,
   "metadata": {},
   "outputs": [],
   "source": [
    "xtrain, xtest, ytrain, ytest = train_test_split(X, Y, test_size=0.3, random_state=0)"
   ]
  },
  {
   "cell_type": "markdown",
   "metadata": {},
   "source": [
    "A continuación realizamos un paso muy importante comentado al principio de este apartado, el aumento de la muestra para el valor minoritario dentro de C_SEV. Para ello importamos SMOTE cuya funcion principal es aumentar los valores uno(al menos una muerte) de manera sintetica, es decir, no son valores reales para que el resultado final no se vea afectado por este desajuste."
   ]
  },
  {
   "cell_type": "code",
   "execution_count": 18,
   "metadata": {},
   "outputs": [],
   "source": [
    "sm = SMOTE(random_state = 12345, n_jobs=-1, k_neighbors = 5, sampling_strategy=0.4)\n",
    "X_train_sampled, y_train_sampled =sm.fit_resample(xtrain, ytrain)\n",
    "X_train = pd.DataFrame(X_train_sampled, columns = xtrain.columns)"
   ]
  },
  {
   "cell_type": "markdown",
   "metadata": {},
   "source": [
    "Comprobamos que el size de los respectivos Xtrain e ytrain siguen siendo igual, ya que esto podría darnos problemas a la hora de aplicar los modelos"
   ]
  },
  {
   "cell_type": "code",
   "execution_count": 19,
   "metadata": {},
   "outputs": [
    {
     "name": "stdout",
     "output_type": "stream",
     "text": [
      "5646627\n",
      "1758122\n",
      "5646627\n",
      "1758122\n"
     ]
    }
   ],
   "source": [
    "print(len(X_train))\n",
    "print(len(xtest))\n",
    "print(len(y_train_sampled))\n",
    "print(len(ytest))"
   ]
  },
  {
   "cell_type": "markdown",
   "metadata": {},
   "source": [
    "Finalmente, tambien realizaremos una normalización de las variables cuya funcionalidad principal es calcular la distancia o posicion del valor respecto de su minimo comprimido en un rago delimitado por su propio máximo y minimo. "
   ]
  },
  {
   "cell_type": "code",
   "execution_count": 20,
   "metadata": {},
   "outputs": [],
   "source": [
    "from sklearn.preprocessing import StandardScaler\n",
    "scaler = StandardScaler()\n",
    "model_scaled = scaler.fit(X_train)\n",
    "X_train_scaled = pd.DataFrame(scaler.transform(X_train), columns=X_train.columns, index=X_train.index)\n",
    "X_test_scaled = pd.DataFrame(scaler.transform(xtest), columns=xtest.columns, index=xtest.index)"
   ]
  },
  {
   "cell_type": "code",
   "execution_count": 21,
   "metadata": {},
   "outputs": [
    {
     "name": "stdout",
     "output_type": "stream",
     "text": [
      "5646627\n",
      "1758122\n",
      "5646627\n",
      "1758122\n"
     ]
    }
   ],
   "source": [
    "print(len(X_train_scaled))\n",
    "print(len(X_test_scaled))\n",
    "print(len(y_train_sampled))\n",
    "print(len(ytest))"
   ]
  },
  {
   "cell_type": "markdown",
   "metadata": {},
   "source": [
    "# Seleccion de variables LASSO\n",
    "\n",
    "Modelo Lasso es un método de regresion lineal que tiene su funcion de coste con la cual trata de optimizar sus resultados, en este caso sus coeficientes. Para ello, trata de reducir los coeficientes de las variables a cero para quedarse con aquellos que son distintos de cero. Es decir, fuerza que los coeficientes tiendan a cero para que asi los de mayor coeficiente, y en ese caso los coeficientes con mayor importantcia, sobrevivan a dicha elección y los que sean iguales a cero eliminarlos. De esta manera seleccionaremos que variables utilizar para los modelos.\n"
   ]
  },
  {
   "cell_type": "code",
   "execution_count": 27,
   "metadata": {},
   "outputs": [
    {
     "data": {
      "text/plain": [
       "SelectFromModel(estimator=LogisticRegression(C=1, penalty='l1',\n",
       "                                             solver='liblinear'),\n",
       "                threshold=0.9)"
      ]
     },
     "execution_count": 27,
     "metadata": {},
     "output_type": "execute_result"
    }
   ],
   "source": [
    "from sklearn.linear_model import Lasso\n",
    "from sklearn.feature_selection import SelectFromModel\n",
    "from sklearn.linear_model import LogisticRegression\n",
    "\n",
    "sel_lasso = SelectFromModel(LogisticRegression(C=1, penalty='l1', \n",
    "                                          solver='liblinear'), threshold = 0.9) \n",
    "sel_lasso.fit(X_train_sampled, y_train_sampled)\n"
   ]
  },
  {
   "cell_type": "code",
   "execution_count": 29,
   "metadata": {},
   "outputs": [
    {
     "data": {
      "text/plain": [
       "Index(['C_CONF', 'C_RCFG', 'C_WTHR', 'C_RALN', 'C_TRAF', 'V_TYPE', 'P_SEX',\n",
       "       'P_PSN', 'P_ISEV', 'P_SAFE'],\n",
       "      dtype='object')"
      ]
     },
     "execution_count": 29,
     "metadata": {},
     "output_type": "execute_result"
    }
   ],
   "source": [
    "sel_lasso.get_support()\n",
    "selected_feat_lasso = X_train_sampled.columns[sel_lasso.get_support()]\n",
    "selected_feat_lasso"
   ]
  },
  {
   "cell_type": "code",
   "execution_count": 32,
   "metadata": {},
   "outputs": [
    {
     "name": "stdout",
     "output_type": "stream",
     "text": [
      "total features: 18\n",
      "selected features: 5646627\n"
     ]
    }
   ],
   "source": [
    "print('total features: {}'.format((X_train_sampled.shape[1])))\n",
    "print('selected features: {}'.format(len(X_train)))"
   ]
  },
  {
   "cell_type": "code",
   "execution_count": 34,
   "metadata": {},
   "outputs": [
    {
     "data": {
      "image/png": "[encoded data removed]",
      "text/plain": [
       "<Figure size 1152x276.48 with 1 Axes>"
      ]
     },
     "metadata": {
      "needs_background": "light"
     },
     "output_type": "display_data"
    }
   ],
   "source": [
    "df_coeficientes_lasso = pd.DataFrame(\n",
    "                        {'predictor': X_train_sampled.columns,\n",
    "                         'coef': sel_lasso.estimator_.coef_.flatten()}\n",
    "                  )\n",
    "\n",
    "fig, ax = plt.subplots(figsize=(16, 3.84))\n",
    "ax.stem(df_coeficientes_lasso.predictor, df_coeficientes_lasso.coef, markerfmt=' ')\n",
    "plt.xticks(rotation=90, ha='right', size=10)\n",
    "ax.set_xlabel('variable')\n",
    "ax.set_ylabel('coeficientes')\n",
    "ax.set_title('Coeficientes del modelo lasso');"
   ]
  },
  {
   "cell_type": "markdown",
   "metadata": {},
   "source": [
    "Una vez realizado los pasos de arriba donde entrenamos el modelo Lasso con nuestra muestr y representamos graficamente cuales son las variables importantes, escogeremos dichas variables y las extraeremos de nuestr xtrain y xtest para poder realizar los modelos."
   ]
  },
  {
   "cell_type": "code",
   "execution_count": 36,
   "metadata": {},
   "outputs": [],
   "source": [
    "X_train_scaled = X_train_scaled[selected_feat_lasso]"
   ]
  },
  {
   "cell_type": "code",
   "execution_count": 37,
   "metadata": {},
   "outputs": [],
   "source": [
    "X_test_scaled = X_test_scaled[selected_feat_lasso]"
   ]
  },
  {
   "cell_type": "markdown",
   "metadata": {},
   "source": [
    "# Modelo LightGBM"
   ]
  },
  {
   "cell_type": "markdown",
   "metadata": {},
   "source": [
    "### Obtencion de parametros y entrenamiento"
   ]
  },
  {
   "cell_type": "code",
   "execution_count": 40,
   "metadata": {},
   "outputs": [],
   "source": [
    "param_test = {\n",
    "'n_estimators'      :[100, 1000], \n",
    "'max_depth'         :[10],\n",
    "'subsample'         :[0.5, 1],\n",
    "'learning_rate'     :[0.1],\n",
    "'boosting_type'     :['gbdt']\n",
    "}\n",
    "lgboosting = GridSearchCV(estimator = lgb.LGBMClassifier(80), \n",
    "                               param_grid = param_test, scoring='roc_auc', n_jobs=-1)"
   ]
  },
  {
   "cell_type": "code",
   "execution_count": null,
   "metadata": {},
   "outputs": [],
   "source": [
    "clf_xgb = xgb()"
   ]
  },
  {
   "cell_type": "code",
   "execution_count": 39,
   "metadata": {},
   "outputs": [],
   "source": [
    "from lightgbm import LGBMClassifier\n",
    "import lightgbm as lgb"
   ]
  },
  {
   "cell_type": "code",
   "execution_count": 41,
   "metadata": {},
   "outputs": [
    {
     "data": {
      "text/plain": [
       "GridSearchCV(estimator=LGBMClassifier(boosting_type=80), n_jobs=-1,\n",
       "             param_grid={'boosting_type': ['gbdt'], 'learning_rate': [0.1],\n",
       "                         'max_depth': [10], 'n_estimators': [100, 1000],\n",
       "                         'subsample': [0.5, 1]},\n",
       "             scoring='roc_auc')"
      ]
     },
     "execution_count": 41,
     "metadata": {},
     "output_type": "execute_result"
    }
   ],
   "source": [
    "lgboosting.fit(X_train_scaled, y_train_sampled)"
   ]
  },
  {
   "cell_type": "code",
   "execution_count": 42,
   "metadata": {},
   "outputs": [
    {
     "data": {
      "text/plain": [
       "LGBMClassifier(max_depth=10, subsample=0.5)"
      ]
     },
     "execution_count": 42,
     "metadata": {},
     "output_type": "execute_result"
    }
   ],
   "source": [
    "lgboosting.best_estimator_"
   ]
  },
  {
   "cell_type": "code",
   "execution_count": 43,
   "metadata": {},
   "outputs": [
    {
     "data": {
      "text/plain": [
       "{'boosting_type': 'gbdt',\n",
       " 'learning_rate': 0.1,\n",
       " 'max_depth': 10,\n",
       " 'n_estimators': 100,\n",
       " 'subsample': 0.5}"
      ]
     },
     "execution_count": 43,
     "metadata": {},
     "output_type": "execute_result"
    }
   ],
   "source": [
    "lgboosting.best_params_"
   ]
  },
  {
   "cell_type": "code",
   "execution_count": 45,
   "metadata": {},
   "outputs": [
    {
     "name": "stdout",
     "output_type": "stream",
     "text": [
      "[[0.9941211  0.0058789 ]\n",
      " [0.98796815 0.01203185]\n",
      " [0.98064959 0.01935041]\n",
      " ...\n",
      " [0.99782564 0.00217436]\n",
      " [0.97893176 0.02106824]\n",
      " [0.97421641 0.02578359]]\n"
     ]
    }
   ],
   "source": [
    "LeadScore = lgboosting.predict_proba(X_test_scaled)\n",
    "print(LeadScore)"
   ]
  },
  {
   "cell_type": "code",
   "execution_count": 46,
   "metadata": {},
   "outputs": [
    {
     "name": "stdout",
     "output_type": "stream",
     "text": [
      "[0 0 0 ... 0 0 0]\n"
     ]
    }
   ],
   "source": [
    "pred = lgboosting.predict(X_test_scaled)\n",
    "\n",
    "print(pred)"
   ]
  },
  {
   "cell_type": "code",
   "execution_count": 47,
   "metadata": {},
   "outputs": [
    {
     "data": {
      "text/plain": [
       "0.9899421086818776"
      ]
     },
     "execution_count": 47,
     "metadata": {},
     "output_type": "execute_result"
    }
   ],
   "source": [
    "accuracy_score(ytest, pred)"
   ]
  },
  {
   "cell_type": "code",
   "execution_count": 48,
   "metadata": {},
   "outputs": [
    {
     "name": "stdout",
     "output_type": "stream",
     "text": [
      "              precision    recall  f1-score   support\n",
      "\n",
      "           0       0.99      1.00      0.99   1728467\n",
      "           1       0.96      0.42      0.59     29655\n",
      "\n",
      "    accuracy                           0.99   1758122\n",
      "   macro avg       0.98      0.71      0.79   1758122\n",
      "weighted avg       0.99      0.99      0.99   1758122\n",
      "\n"
     ]
    }
   ],
   "source": [
    "print(classification_report(ytest, pred))"
   ]
  },
  {
   "cell_type": "markdown",
   "metadata": {},
   "source": [
    "### Confusion Matrix"
   ]
  },
  {
   "cell_type": "code",
   "execution_count": 80,
   "metadata": {},
   "outputs": [],
   "source": [
    "from sklearn.metrics import confusion_matrix"
   ]
  },
  {
   "cell_type": "code",
   "execution_count": 81,
   "metadata": {},
   "outputs": [
    {
     "data": {
      "image/png": "[encoded data removed]",
      "text/plain": [
       "<Figure size 648x648 with 2 Axes>"
      ]
     },
     "metadata": {
      "needs_background": "light"
     },
     "output_type": "display_data"
    }
   ],
   "source": [
    "cm_xgb = confusion_matrix(ytest, pred)\n",
    "\n",
    "plt.figure(figsize=(9,9))\n",
    "sns.heatmap(cm_xgb, annot=True, fmt=\".3f\", linewidths=.5, square = True, cmap = 'Blues_r');\n",
    "plt.ylabel('Actual label');"
   ]
  },
  {
   "cell_type": "code",
   "execution_count": 82,
   "metadata": {},
   "outputs": [],
   "source": [
    "from sklearn.metrics import plot_confusion_matrix"
   ]
  },
  {
   "cell_type": "code",
   "execution_count": 85,
   "metadata": {},
   "outputs": [
    {
     "name": "stdout",
     "output_type": "stream",
     "text": [
      "Confusion matrix, without normalization\n",
      "[[1727952     515]\n",
      " [  17168   12487]]\n",
      "Normalized confusion matrix\n",
      "[[9.99702048e-01 2.97951885e-04]\n",
      " [5.78924296e-01 4.21075704e-01]]\n"
     ]
    },
    {
     "data": {
      "image/png": "[encoded data removed]",
      "text/plain": [
       "<Figure size 432x288 with 2 Axes>"
      ]
     },
     "metadata": {
      "needs_background": "light"
     },
     "output_type": "display_data"
    },
    {
     "data": {
      "image/png": "[encoded data removed]",
      "text/plain": [
       "<Figure size 432x288 with 2 Axes>"
      ]
     },
     "metadata": {
      "needs_background": "light"
     },
     "output_type": "display_data"
    }
   ],
   "source": [
    "titles_options = [(\"Confusion matrix, without normalization\", None),\n",
    "                  (\"Normalized confusion matrix\", 'true')]\n",
    "for title, normalize in titles_options:\n",
    "    disp = plot_confusion_matrix(lgboosting, X_test_scaled, ytest,\n",
    "                                 # display_labels=ytest,\n",
    "                                 cmap=plt.cm.Blues,\n",
    "                                 normalize=normalize)\n",
    "    disp.ax_.set_title(title)\n",
    "\n",
    "    print(title)\n",
    "    print(disp.confusion_matrix)\n",
    "\n",
    "plt.show()"
   ]
  },
  {
   "cell_type": "markdown",
   "metadata": {},
   "source": [
    "### ROC Curve"
   ]
  },
  {
   "cell_type": "code",
   "execution_count": 111,
   "metadata": {},
   "outputs": [
    {
     "data": {
      "image/png": "[encoded data removed]",
      "text/plain": [
       "<Figure size 432x288 with 1 Axes>"
      ]
     },
     "metadata": {
      "needs_background": "light"
     },
     "output_type": "display_data"
    }
   ],
   "source": [
    "metrics.plot_roc_curve(lgboosting, X_test_scaled, ytest)\n",
    "plt.show()"
   ]
  },
  {
   "cell_type": "code",
   "execution_count": 93,
   "metadata": {},
   "outputs": [],
   "source": [
    "predicted_probas = lgboosting.predict_proba(X_test_scaled)"
   ]
  },
  {
   "cell_type": "markdown",
   "metadata": {},
   "source": [
    "### Cumulative Gains Curve"
   ]
  },
  {
   "cell_type": "code",
   "execution_count": 97,
   "metadata": {},
   "outputs": [
    {
     "data": {
      "image/png": "[encoded data removed]",
      "text/plain": [
       "<Figure size 432x288 with 1 Axes>"
      ]
     },
     "metadata": {
      "needs_background": "light"
     },
     "output_type": "display_data"
    }
   ],
   "source": [
    "skplt.metrics.plot_cumulative_gain(ytest, predicted_probas)\n",
    "plt.show()"
   ]
  },
  {
   "cell_type": "markdown",
   "metadata": {},
   "source": [
    "### Lift Curve"
   ]
  },
  {
   "cell_type": "code",
   "execution_count": 98,
   "metadata": {},
   "outputs": [
    {
     "data": {
      "image/png": "[encoded data removed]",
      "text/plain": [
       "<Figure size 432x288 with 1 Axes>"
      ]
     },
     "metadata": {
      "needs_background": "light"
     },
     "output_type": "display_data"
    }
   ],
   "source": [
    "skplt.metrics.plot_lift_curve(ytest, predicted_probas)\n",
    "plt.show()"
   ]
  },
  {
   "cell_type": "markdown",
   "metadata": {},
   "source": [
    "### Histogram"
   ]
  },
  {
   "cell_type": "code",
   "execution_count": 99,
   "metadata": {},
   "outputs": [
    {
     "data": {
      "text/plain": [
       "Text(0, 0.5, 'Frequency')"
      ]
     },
     "execution_count": 99,
     "metadata": {},
     "output_type": "execute_result"
    },
    {
     "data": {
      "image/png": "[encoded data removed]",
      "text/plain": [
       "<Figure size 432x288 with 1 Axes>"
      ]
     },
     "metadata": {
      "needs_background": "light"
     },
     "output_type": "display_data"
    }
   ],
   "source": [
    "y_pred_prob = predicted_probas[:, 1]\n",
    "\n",
    "plt.rcParams['font.size'] = 12\n",
    "plt.hist(y_pred_prob, bins=25,facecolor='royalblue', edgecolor = 'black')\n",
    "plt.xlim(0,1)\n",
    "plt.title('Histogram of predicted probabilities')\n",
    "plt.xlabel('Predicted probability')\n",
    "plt.ylabel('Frequency')"
   ]
  },
  {
   "cell_type": "markdown",
   "metadata": {},
   "source": [
    "# Save the model "
   ]
  },
  {
   "cell_type": "code",
   "execution_count": 109,
   "metadata": {},
   "outputs": [],
   "source": [
    "model = lgboosting\n",
    "filename = 'LGB.sav'\n",
    "pickle.dump(model, open(filename, 'wb'))"
   ]
  },
  {
   "cell_type": "code",
   "execution_count": 110,
   "metadata": {},
   "outputs": [
    {
     "data": {
      "text/plain": [
       "0.9899421086818776"
      ]
     },
     "execution_count": 110,
     "metadata": {},
     "output_type": "execute_result"
    }
   ],
   "source": [
    "filename3 = 'LGB.sav'\n",
    "LGB = pickle.load(open(filename3, 'rb'))\n",
    "pred = LGB.predict(X_test_scaled)\n",
    "accuracy_score(ytest, pred) "
   ]
  },
  {
   "cell_type": "code",
   "execution_count": null,
   "metadata": {},
   "outputs": [],
   "source": []
  },
  {
   "cell_type": "code",
   "execution_count": null,
   "metadata": {},
   "outputs": [],
   "source": []
  }
 ],
 "metadata": {
  "interpreter": {
   "hash": "ec2db0e6a0cfac1ce70841df038de22160a260bdc8b421418e70720619f258bc"
  },
  "kernelspec": {
   "display_name": "Python 3",
   "language": "python",
   "name": "python3"
  },
  "language_info": {
   "codemirror_mode": {
    "name": "ipython",
    "version": 3
   },
   "file_extension": ".py",
   "mimetype": "text/x-python",
   "name": "python",
   "nbconvert_exporter": "python",
   "pygments_lexer": "ipython3",
   "version": "3.8.8"
  }
 },
 "nbformat": 4,
 "nbformat_minor": 4
}
