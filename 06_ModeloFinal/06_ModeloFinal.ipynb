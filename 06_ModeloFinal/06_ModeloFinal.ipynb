{
 "cells": [
  {
   "cell_type": "markdown",
   "metadata": {},
   "source": [
    "# MODELO RANDOM FOREST"
   ]
  },
  {
   "cell_type": "markdown",
   "metadata": {},
   "source": [
    "## Rubén Cobarro Martínez y Javier Serrat"
   ]
  },
  {
   "cell_type": "markdown",
   "metadata": {},
   "source": [
    "# Importación de librerias"
   ]
  },
  {
   "cell_type": "markdown",
   "metadata": {},
   "source": [
    "import pandas as pd\n",
    "import matplotlib.pyplot as plt\n",
    "import numpy as np\n",
    "import seaborn as sns\n",
    "import warnings\n",
    "import category_encoders as ce\n",
    "from category_encoders.target_encoder import TargetEncoder\n",
    "from sklearn.metrics import confusion_matrix\n",
    "from sklearn.metrics import roc_auc_score\n",
    "from sklearn.metrics import roc_curve\n",
    "from sklearn.metrics import roc_auc_score, roc_curve"
   ]
  },
  {
   "cell_type": "code",
   "execution_count": null,
   "metadata": {},
   "outputs": [],
   "source": [
    "import plotly.express as px\n",
    "import category_encoders as ce\n",
    "from sklearn.decomposition import PCA\n",
    "import matplotlib.pyplot as plt\n",
    "from sklearn.preprocessing import StandardScaler\n",
    "from sklearn.feature_selection import SelectFromModel\n",
    "from sklearn.linear_model import LogisticRegression\n",
    "from sklearn.ensemble import GradientBoostingClassifier\n",
    "from sklearn import metrics"
   ]
  },
  {
   "cell_type": "markdown",
   "metadata": {},
   "source": [
    "# Lectura del CSV."
   ]
  },
  {
   "cell_type": "code",
   "execution_count": 3,
   "metadata": {},
   "outputs": [
    {
     "name": "stderr",
     "output_type": "stream",
     "text": [
      "C:\\Users\\ASus\\anaconda3\\lib\\site-packages\\IPython\\core\\interactiveshell.py:3165: DtypeWarning: Columns (15,18,19) have mixed types.Specify dtype option on import or set low_memory=False.\n",
      "  has_raised = await self.run_ast_nodes(code_ast.body, cell_name,\n"
     ]
    }
   ],
   "source": [
    "df_car = pd.read_csv('df_car.csv')"
   ]
  },
  {
   "cell_type": "markdown",
   "metadata": {},
   "source": [
    "Comprobamos primeramente la existencia de NaN en el data set antes de realizar el encoding de las columnas categoricas"
   ]
  },
  {
   "cell_type": "code",
   "execution_count": 4,
   "metadata": {},
   "outputs": [
    {
     "data": {
      "text/html": [
       "<div>\n",
       "<style scoped>\n",
       "    .dataframe tbody tr th:only-of-type {\n",
       "        vertical-align: middle;\n",
       "    }\n",
       "\n",
       "    .dataframe tbody tr th {\n",
       "        vertical-align: top;\n",
       "    }\n",
       "\n",
       "    .dataframe thead th {\n",
       "        text-align: right;\n",
       "    }\n",
       "</style>\n",
       "<table border=\"1\" class=\"dataframe\">\n",
       "  <thead>\n",
       "    <tr style=\"text-align: right;\">\n",
       "      <th></th>\n",
       "      <th>Number of NA</th>\n",
       "      <th>Percent NA</th>\n",
       "    </tr>\n",
       "  </thead>\n",
       "  <tbody>\n",
       "  </tbody>\n",
       "</table>\n",
       "</div>"
      ],
      "text/plain": [
       "Empty DataFrame\n",
       "Columns: [Number of NA, Percent NA]\n",
       "Index: []"
      ]
     },
     "execution_count": 4,
     "metadata": {},
     "output_type": "execute_result"
    }
   ],
   "source": [
    "def access_NA(df_car):\n",
    "    \n",
    "    null_sum = df_car.isnull().sum()\n",
    "    total = null_sum.sort_values(ascending=False)\n",
    "    percent = ( ((null_sum / len(df_car.index))*100).round(2) ).sort_values(ascending=False)\n",
    "    \n",
    "    \n",
    "    data_car_na = pd.concat([total, percent], axis=1, keys=['Number of NA', 'Percent NA'])\n",
    "    \n",
    "    data_car_na = data_car_na[ (data_car_na.T != 0).any() ]\n",
    "    \n",
    "    return data_car_na\n",
    "\n",
    "access_NA(df_car)"
   ]
  },
  {
   "cell_type": "code",
   "execution_count": 5,
   "metadata": {},
   "outputs": [
    {
     "data": {
      "text/html": [
       "<div>\n",
       "<style scoped>\n",
       "    .dataframe tbody tr th:only-of-type {\n",
       "        vertical-align: middle;\n",
       "    }\n",
       "\n",
       "    .dataframe tbody tr th {\n",
       "        vertical-align: top;\n",
       "    }\n",
       "\n",
       "    .dataframe thead th {\n",
       "        text-align: right;\n",
       "    }\n",
       "</style>\n",
       "<table border=\"1\" class=\"dataframe\">\n",
       "  <thead>\n",
       "    <tr style=\"text-align: right;\">\n",
       "      <th></th>\n",
       "      <th>C_YEAR</th>\n",
       "      <th>C_MNTH</th>\n",
       "      <th>C_WDAY</th>\n",
       "      <th>C_HOUR</th>\n",
       "      <th>C_SEV</th>\n",
       "      <th>C_VEHS</th>\n",
       "      <th>C_CONF</th>\n",
       "      <th>C_RCFG</th>\n",
       "      <th>C_WTHR</th>\n",
       "      <th>C_RSUR</th>\n",
       "      <th>...</th>\n",
       "      <th>V_ID</th>\n",
       "      <th>V_TYPE</th>\n",
       "      <th>V_YEAR</th>\n",
       "      <th>P_ID</th>\n",
       "      <th>P_SEX</th>\n",
       "      <th>P_AGE</th>\n",
       "      <th>P_PSN</th>\n",
       "      <th>P_ISEV</th>\n",
       "      <th>P_SAFE</th>\n",
       "      <th>P_USER</th>\n",
       "    </tr>\n",
       "  </thead>\n",
       "  <tbody>\n",
       "    <tr>\n",
       "      <th>0</th>\n",
       "      <td>1999</td>\n",
       "      <td>1</td>\n",
       "      <td>1</td>\n",
       "      <td>20</td>\n",
       "      <td>0</td>\n",
       "      <td>2</td>\n",
       "      <td>34</td>\n",
       "      <td>02</td>\n",
       "      <td>1</td>\n",
       "      <td>5</td>\n",
       "      <td>...</td>\n",
       "      <td>1</td>\n",
       "      <td>06</td>\n",
       "      <td>1990</td>\n",
       "      <td>1</td>\n",
       "      <td>M</td>\n",
       "      <td>41</td>\n",
       "      <td>11</td>\n",
       "      <td>1</td>\n",
       "      <td>02</td>\n",
       "      <td>1</td>\n",
       "    </tr>\n",
       "    <tr>\n",
       "      <th>1</th>\n",
       "      <td>1999</td>\n",
       "      <td>1</td>\n",
       "      <td>1</td>\n",
       "      <td>20</td>\n",
       "      <td>0</td>\n",
       "      <td>2</td>\n",
       "      <td>34</td>\n",
       "      <td>02</td>\n",
       "      <td>1</td>\n",
       "      <td>5</td>\n",
       "      <td>...</td>\n",
       "      <td>2</td>\n",
       "      <td>01</td>\n",
       "      <td>1987</td>\n",
       "      <td>1</td>\n",
       "      <td>M</td>\n",
       "      <td>19</td>\n",
       "      <td>11</td>\n",
       "      <td>1</td>\n",
       "      <td>02</td>\n",
       "      <td>1</td>\n",
       "    </tr>\n",
       "    <tr>\n",
       "      <th>2</th>\n",
       "      <td>1999</td>\n",
       "      <td>1</td>\n",
       "      <td>1</td>\n",
       "      <td>20</td>\n",
       "      <td>0</td>\n",
       "      <td>2</td>\n",
       "      <td>34</td>\n",
       "      <td>02</td>\n",
       "      <td>1</td>\n",
       "      <td>5</td>\n",
       "      <td>...</td>\n",
       "      <td>2</td>\n",
       "      <td>01</td>\n",
       "      <td>1987</td>\n",
       "      <td>2</td>\n",
       "      <td>F</td>\n",
       "      <td>20</td>\n",
       "      <td>13</td>\n",
       "      <td>2</td>\n",
       "      <td>02</td>\n",
       "      <td>2</td>\n",
       "    </tr>\n",
       "    <tr>\n",
       "      <th>3</th>\n",
       "      <td>1999</td>\n",
       "      <td>1</td>\n",
       "      <td>1</td>\n",
       "      <td>8</td>\n",
       "      <td>0</td>\n",
       "      <td>1</td>\n",
       "      <td>01</td>\n",
       "      <td>02</td>\n",
       "      <td>5</td>\n",
       "      <td>3</td>\n",
       "      <td>...</td>\n",
       "      <td>1</td>\n",
       "      <td>01</td>\n",
       "      <td>1986</td>\n",
       "      <td>1</td>\n",
       "      <td>M</td>\n",
       "      <td>46</td>\n",
       "      <td>11</td>\n",
       "      <td>1</td>\n",
       "      <td>02</td>\n",
       "      <td>1</td>\n",
       "    </tr>\n",
       "    <tr>\n",
       "      <th>4</th>\n",
       "      <td>1999</td>\n",
       "      <td>1</td>\n",
       "      <td>1</td>\n",
       "      <td>8</td>\n",
       "      <td>0</td>\n",
       "      <td>1</td>\n",
       "      <td>01</td>\n",
       "      <td>02</td>\n",
       "      <td>5</td>\n",
       "      <td>3</td>\n",
       "      <td>...</td>\n",
       "      <td>99</td>\n",
       "      <td>NN</td>\n",
       "      <td>2000</td>\n",
       "      <td>1</td>\n",
       "      <td>M</td>\n",
       "      <td>5</td>\n",
       "      <td>99</td>\n",
       "      <td>2</td>\n",
       "      <td>02</td>\n",
       "      <td>3</td>\n",
       "    </tr>\n",
       "    <tr>\n",
       "      <th>...</th>\n",
       "      <td>...</td>\n",
       "      <td>...</td>\n",
       "      <td>...</td>\n",
       "      <td>...</td>\n",
       "      <td>...</td>\n",
       "      <td>...</td>\n",
       "      <td>...</td>\n",
       "      <td>...</td>\n",
       "      <td>...</td>\n",
       "      <td>...</td>\n",
       "      <td>...</td>\n",
       "      <td>...</td>\n",
       "      <td>...</td>\n",
       "      <td>...</td>\n",
       "      <td>...</td>\n",
       "      <td>...</td>\n",
       "      <td>...</td>\n",
       "      <td>...</td>\n",
       "      <td>...</td>\n",
       "      <td>...</td>\n",
       "      <td>...</td>\n",
       "    </tr>\n",
       "    <tr>\n",
       "      <th>5255553</th>\n",
       "      <td>2014</td>\n",
       "      <td>12</td>\n",
       "      <td>7</td>\n",
       "      <td>14</td>\n",
       "      <td>0</td>\n",
       "      <td>2</td>\n",
       "      <td>41</td>\n",
       "      <td>01</td>\n",
       "      <td>1</td>\n",
       "      <td>5</td>\n",
       "      <td>...</td>\n",
       "      <td>2</td>\n",
       "      <td>05</td>\n",
       "      <td>2008</td>\n",
       "      <td>1</td>\n",
       "      <td>M</td>\n",
       "      <td>44</td>\n",
       "      <td>11</td>\n",
       "      <td>1</td>\n",
       "      <td>02</td>\n",
       "      <td>1</td>\n",
       "    </tr>\n",
       "    <tr>\n",
       "      <th>5255554</th>\n",
       "      <td>2014</td>\n",
       "      <td>12</td>\n",
       "      <td>7</td>\n",
       "      <td>14</td>\n",
       "      <td>0</td>\n",
       "      <td>2</td>\n",
       "      <td>41</td>\n",
       "      <td>01</td>\n",
       "      <td>1</td>\n",
       "      <td>5</td>\n",
       "      <td>...</td>\n",
       "      <td>2</td>\n",
       "      <td>05</td>\n",
       "      <td>2008</td>\n",
       "      <td>2</td>\n",
       "      <td>M</td>\n",
       "      <td>34</td>\n",
       "      <td>13</td>\n",
       "      <td>2</td>\n",
       "      <td>02</td>\n",
       "      <td>2</td>\n",
       "    </tr>\n",
       "    <tr>\n",
       "      <th>5255555</th>\n",
       "      <td>2014</td>\n",
       "      <td>12</td>\n",
       "      <td>7</td>\n",
       "      <td>19</td>\n",
       "      <td>0</td>\n",
       "      <td>1</td>\n",
       "      <td>03</td>\n",
       "      <td>01</td>\n",
       "      <td>1</td>\n",
       "      <td>3</td>\n",
       "      <td>...</td>\n",
       "      <td>1</td>\n",
       "      <td>01</td>\n",
       "      <td>2001</td>\n",
       "      <td>1</td>\n",
       "      <td>F</td>\n",
       "      <td>35</td>\n",
       "      <td>11</td>\n",
       "      <td>2</td>\n",
       "      <td>02</td>\n",
       "      <td>1</td>\n",
       "    </tr>\n",
       "    <tr>\n",
       "      <th>5255556</th>\n",
       "      <td>2014</td>\n",
       "      <td>12</td>\n",
       "      <td>7</td>\n",
       "      <td>19</td>\n",
       "      <td>0</td>\n",
       "      <td>1</td>\n",
       "      <td>03</td>\n",
       "      <td>01</td>\n",
       "      <td>1</td>\n",
       "      <td>3</td>\n",
       "      <td>...</td>\n",
       "      <td>1</td>\n",
       "      <td>01</td>\n",
       "      <td>2001</td>\n",
       "      <td>2</td>\n",
       "      <td>M</td>\n",
       "      <td>26</td>\n",
       "      <td>13</td>\n",
       "      <td>1</td>\n",
       "      <td>02</td>\n",
       "      <td>2</td>\n",
       "    </tr>\n",
       "    <tr>\n",
       "      <th>5255557</th>\n",
       "      <td>2014</td>\n",
       "      <td>12</td>\n",
       "      <td>7</td>\n",
       "      <td>19</td>\n",
       "      <td>0</td>\n",
       "      <td>1</td>\n",
       "      <td>03</td>\n",
       "      <td>01</td>\n",
       "      <td>1</td>\n",
       "      <td>3</td>\n",
       "      <td>...</td>\n",
       "      <td>1</td>\n",
       "      <td>01</td>\n",
       "      <td>2001</td>\n",
       "      <td>3</td>\n",
       "      <td>F</td>\n",
       "      <td>15</td>\n",
       "      <td>21</td>\n",
       "      <td>2</td>\n",
       "      <td>02</td>\n",
       "      <td>2</td>\n",
       "    </tr>\n",
       "  </tbody>\n",
       "</table>\n",
       "<p>5255558 rows × 22 columns</p>\n",
       "</div>"
      ],
      "text/plain": [
       "         C_YEAR  C_MNTH  C_WDAY  C_HOUR  C_SEV  C_VEHS C_CONF C_RCFG C_WTHR  \\\n",
       "0          1999       1       1      20      0       2     34     02      1   \n",
       "1          1999       1       1      20      0       2     34     02      1   \n",
       "2          1999       1       1      20      0       2     34     02      1   \n",
       "3          1999       1       1       8      0       1     01     02      5   \n",
       "4          1999       1       1       8      0       1     01     02      5   \n",
       "...         ...     ...     ...     ...    ...     ...    ...    ...    ...   \n",
       "5255553    2014      12       7      14      0       2     41     01      1   \n",
       "5255554    2014      12       7      14      0       2     41     01      1   \n",
       "5255555    2014      12       7      19      0       1     03     01      1   \n",
       "5255556    2014      12       7      19      0       1     03     01      1   \n",
       "5255557    2014      12       7      19      0       1     03     01      1   \n",
       "\n",
       "        C_RSUR  ... V_ID V_TYPE  V_YEAR P_ID  P_SEX P_AGE P_PSN  P_ISEV  \\\n",
       "0            5  ...    1     06    1990    1      M    41    11       1   \n",
       "1            5  ...    2     01    1987    1      M    19    11       1   \n",
       "2            5  ...    2     01    1987    2      F    20    13       2   \n",
       "3            3  ...    1     01    1986    1      M    46    11       1   \n",
       "4            3  ...   99     NN    2000    1      M     5    99       2   \n",
       "...        ...  ...  ...    ...     ...  ...    ...   ...   ...     ...   \n",
       "5255553      5  ...    2     05    2008    1      M    44    11       1   \n",
       "5255554      5  ...    2     05    2008    2      M    34    13       2   \n",
       "5255555      3  ...    1     01    2001    1      F    35    11       2   \n",
       "5255556      3  ...    1     01    2001    2      M    26    13       1   \n",
       "5255557      3  ...    1     01    2001    3      F    15    21       2   \n",
       "\n",
       "        P_SAFE P_USER  \n",
       "0           02      1  \n",
       "1           02      1  \n",
       "2           02      2  \n",
       "3           02      1  \n",
       "4           02      3  \n",
       "...        ...    ...  \n",
       "5255553     02      1  \n",
       "5255554     02      2  \n",
       "5255555     02      1  \n",
       "5255556     02      2  \n",
       "5255557     02      2  \n",
       "\n",
       "[5255558 rows x 22 columns]"
      ]
     },
     "execution_count": 5,
     "metadata": {},
     "output_type": "execute_result"
    }
   ],
   "source": [
    "df_car"
   ]
  },
  {
   "cell_type": "markdown",
   "metadata": {},
   "source": [
    "Eliminamos ciertas columnas como P_ID y V_ID que significas realmente el DNI o cualquier tipo de identificacion personal tanto para el conductor como hacia el vehiculo, ya que no tienen ningun peso para predecir el numero de accidentes y su fatalidad."
   ]
  },
  {
   "cell_type": "code",
   "execution_count": 6,
   "metadata": {},
   "outputs": [],
   "source": [
    "df_car = df_car.drop(['P_ID', 'V_ID', 'C_YEAR'], axis = 1)"
   ]
  },
  {
   "cell_type": "markdown",
   "metadata": {},
   "source": [
    "# Target Encoding\n",
    "\n",
    "Un motivo principal por el cual realizamos target encoding es debido a que contamos con un mayor numero de variables categoricas. Realizamos onehotencoding pero nos vimos obligados a recortar o eliminar columnas ya que algunas variables categoricas contaban con muchos valores para convertir a valores 0 y 1.\n",
    "Finalmente no lo hicimos por miedo a elimnar variables las cuales podrían ser determinantes mas adelante."
   ]
  },
  {
   "cell_type": "code",
   "execution_count": 7,
   "metadata": {},
   "outputs": [],
   "source": [
    "cat_data = df_car.select_dtypes(include = ['object', 'category']).columns"
   ]
  },
  {
   "cell_type": "code",
   "execution_count": 8,
   "metadata": {},
   "outputs": [
    {
     "data": {
      "text/plain": [
       "Index(['C_CONF', 'C_RCFG', 'C_WTHR', 'C_RSUR', 'C_RALN', 'C_TRAF', 'V_TYPE',\n",
       "       'P_SEX', 'P_PSN', 'P_ISEV', 'P_SAFE'],\n",
       "      dtype='object')"
      ]
     },
     "execution_count": 8,
     "metadata": {},
     "output_type": "execute_result"
    }
   ],
   "source": [
    "cat_data"
   ]
  },
  {
   "cell_type": "code",
   "execution_count": 9,
   "metadata": {},
   "outputs": [
    {
     "name": "stderr",
     "output_type": "stream",
     "text": [
      "C:\\Users\\ASus\\anaconda3\\lib\\site-packages\\category_encoders\\utils.py:21: FutureWarning: is_categorical is deprecated and will be removed in a future version.  Use is_categorical_dtype instead\n",
      "  elif pd.api.types.is_categorical(cols):\n"
     ]
    }
   ],
   "source": [
    "TE = ce.TargetEncoder(cols = cat_data)\n",
    "model = TE.fit(df_car, df_car['C_SEV'])"
   ]
  },
  {
   "cell_type": "code",
   "execution_count": 10,
   "metadata": {
    "scrolled": true
   },
   "outputs": [
    {
     "data": {
      "text/html": [
       "<div>\n",
       "<style scoped>\n",
       "    .dataframe tbody tr th:only-of-type {\n",
       "        vertical-align: middle;\n",
       "    }\n",
       "\n",
       "    .dataframe tbody tr th {\n",
       "        vertical-align: top;\n",
       "    }\n",
       "\n",
       "    .dataframe thead th {\n",
       "        text-align: right;\n",
       "    }\n",
       "</style>\n",
       "<table border=\"1\" class=\"dataframe\">\n",
       "  <thead>\n",
       "    <tr style=\"text-align: right;\">\n",
       "      <th></th>\n",
       "      <th>C_MNTH</th>\n",
       "      <th>C_WDAY</th>\n",
       "      <th>C_HOUR</th>\n",
       "      <th>C_SEV</th>\n",
       "      <th>C_VEHS</th>\n",
       "      <th>C_CONF</th>\n",
       "      <th>C_RCFG</th>\n",
       "      <th>C_WTHR</th>\n",
       "      <th>C_RSUR</th>\n",
       "      <th>C_RALN</th>\n",
       "      <th>C_TRAF</th>\n",
       "      <th>V_TYPE</th>\n",
       "      <th>V_YEAR</th>\n",
       "      <th>P_SEX</th>\n",
       "      <th>P_AGE</th>\n",
       "      <th>P_PSN</th>\n",
       "      <th>P_ISEV</th>\n",
       "      <th>P_SAFE</th>\n",
       "      <th>P_USER</th>\n",
       "    </tr>\n",
       "  </thead>\n",
       "  <tbody>\n",
       "    <tr>\n",
       "      <th>0</th>\n",
       "      <td>1</td>\n",
       "      <td>1</td>\n",
       "      <td>20</td>\n",
       "      <td>0</td>\n",
       "      <td>2</td>\n",
       "      <td>0.012446</td>\n",
       "      <td>0.010090</td>\n",
       "      <td>0.015889</td>\n",
       "      <td>0.020002</td>\n",
       "      <td>0.037848</td>\n",
       "      <td>0.013484</td>\n",
       "      <td>0.024478</td>\n",
       "      <td>1990</td>\n",
       "      <td>0.019940</td>\n",
       "      <td>41</td>\n",
       "      <td>0.015195</td>\n",
       "      <td>0.008339</td>\n",
       "      <td>0.013812</td>\n",
       "      <td>1</td>\n",
       "    </tr>\n",
       "    <tr>\n",
       "      <th>1</th>\n",
       "      <td>1</td>\n",
       "      <td>1</td>\n",
       "      <td>20</td>\n",
       "      <td>0</td>\n",
       "      <td>2</td>\n",
       "      <td>0.012446</td>\n",
       "      <td>0.010090</td>\n",
       "      <td>0.015889</td>\n",
       "      <td>0.020002</td>\n",
       "      <td>0.037848</td>\n",
       "      <td>0.013484</td>\n",
       "      <td>0.014462</td>\n",
       "      <td>1987</td>\n",
       "      <td>0.019940</td>\n",
       "      <td>19</td>\n",
       "      <td>0.015195</td>\n",
       "      <td>0.008339</td>\n",
       "      <td>0.013812</td>\n",
       "      <td>1</td>\n",
       "    </tr>\n",
       "    <tr>\n",
       "      <th>2</th>\n",
       "      <td>1</td>\n",
       "      <td>1</td>\n",
       "      <td>20</td>\n",
       "      <td>0</td>\n",
       "      <td>2</td>\n",
       "      <td>0.012446</td>\n",
       "      <td>0.010090</td>\n",
       "      <td>0.015889</td>\n",
       "      <td>0.020002</td>\n",
       "      <td>0.037848</td>\n",
       "      <td>0.013484</td>\n",
       "      <td>0.014462</td>\n",
       "      <td>1987</td>\n",
       "      <td>0.012676</td>\n",
       "      <td>20</td>\n",
       "      <td>0.018782</td>\n",
       "      <td>0.011069</td>\n",
       "      <td>0.013812</td>\n",
       "      <td>2</td>\n",
       "    </tr>\n",
       "    <tr>\n",
       "      <th>3</th>\n",
       "      <td>1</td>\n",
       "      <td>1</td>\n",
       "      <td>8</td>\n",
       "      <td>0</td>\n",
       "      <td>1</td>\n",
       "      <td>0.031366</td>\n",
       "      <td>0.010090</td>\n",
       "      <td>0.027297</td>\n",
       "      <td>0.018718</td>\n",
       "      <td>0.035336</td>\n",
       "      <td>0.023966</td>\n",
       "      <td>0.014462</td>\n",
       "      <td>1986</td>\n",
       "      <td>0.019940</td>\n",
       "      <td>46</td>\n",
       "      <td>0.015195</td>\n",
       "      <td>0.008339</td>\n",
       "      <td>0.013812</td>\n",
       "      <td>1</td>\n",
       "    </tr>\n",
       "    <tr>\n",
       "      <th>4</th>\n",
       "      <td>1</td>\n",
       "      <td>1</td>\n",
       "      <td>8</td>\n",
       "      <td>0</td>\n",
       "      <td>1</td>\n",
       "      <td>0.031366</td>\n",
       "      <td>0.010090</td>\n",
       "      <td>0.027297</td>\n",
       "      <td>0.018718</td>\n",
       "      <td>0.035336</td>\n",
       "      <td>0.023966</td>\n",
       "      <td>0.029604</td>\n",
       "      <td>2000</td>\n",
       "      <td>0.019940</td>\n",
       "      <td>5</td>\n",
       "      <td>0.030524</td>\n",
       "      <td>0.011069</td>\n",
       "      <td>0.013812</td>\n",
       "      <td>3</td>\n",
       "    </tr>\n",
       "    <tr>\n",
       "      <th>...</th>\n",
       "      <td>...</td>\n",
       "      <td>...</td>\n",
       "      <td>...</td>\n",
       "      <td>...</td>\n",
       "      <td>...</td>\n",
       "      <td>...</td>\n",
       "      <td>...</td>\n",
       "      <td>...</td>\n",
       "      <td>...</td>\n",
       "      <td>...</td>\n",
       "      <td>...</td>\n",
       "      <td>...</td>\n",
       "      <td>...</td>\n",
       "      <td>...</td>\n",
       "      <td>...</td>\n",
       "      <td>...</td>\n",
       "      <td>...</td>\n",
       "      <td>...</td>\n",
       "      <td>...</td>\n",
       "    </tr>\n",
       "    <tr>\n",
       "      <th>5255553</th>\n",
       "      <td>12</td>\n",
       "      <td>7</td>\n",
       "      <td>14</td>\n",
       "      <td>0</td>\n",
       "      <td>2</td>\n",
       "      <td>0.017569</td>\n",
       "      <td>0.027813</td>\n",
       "      <td>0.015889</td>\n",
       "      <td>0.020002</td>\n",
       "      <td>0.013352</td>\n",
       "      <td>0.023966</td>\n",
       "      <td>0.016861</td>\n",
       "      <td>2008</td>\n",
       "      <td>0.019940</td>\n",
       "      <td>44</td>\n",
       "      <td>0.014485</td>\n",
       "      <td>0.008339</td>\n",
       "      <td>0.013812</td>\n",
       "      <td>1</td>\n",
       "    </tr>\n",
       "    <tr>\n",
       "      <th>5255554</th>\n",
       "      <td>12</td>\n",
       "      <td>7</td>\n",
       "      <td>14</td>\n",
       "      <td>0</td>\n",
       "      <td>2</td>\n",
       "      <td>0.017569</td>\n",
       "      <td>0.027813</td>\n",
       "      <td>0.015889</td>\n",
       "      <td>0.020002</td>\n",
       "      <td>0.013352</td>\n",
       "      <td>0.023966</td>\n",
       "      <td>0.016861</td>\n",
       "      <td>2008</td>\n",
       "      <td>0.019940</td>\n",
       "      <td>34</td>\n",
       "      <td>0.018323</td>\n",
       "      <td>0.011069</td>\n",
       "      <td>0.013812</td>\n",
       "      <td>2</td>\n",
       "    </tr>\n",
       "    <tr>\n",
       "      <th>5255555</th>\n",
       "      <td>12</td>\n",
       "      <td>7</td>\n",
       "      <td>19</td>\n",
       "      <td>0</td>\n",
       "      <td>1</td>\n",
       "      <td>0.040117</td>\n",
       "      <td>0.027813</td>\n",
       "      <td>0.015889</td>\n",
       "      <td>0.018718</td>\n",
       "      <td>0.040510</td>\n",
       "      <td>0.023966</td>\n",
       "      <td>0.014462</td>\n",
       "      <td>2001</td>\n",
       "      <td>0.012676</td>\n",
       "      <td>35</td>\n",
       "      <td>0.014485</td>\n",
       "      <td>0.011069</td>\n",
       "      <td>0.013812</td>\n",
       "      <td>1</td>\n",
       "    </tr>\n",
       "    <tr>\n",
       "      <th>5255556</th>\n",
       "      <td>12</td>\n",
       "      <td>7</td>\n",
       "      <td>19</td>\n",
       "      <td>0</td>\n",
       "      <td>1</td>\n",
       "      <td>0.040117</td>\n",
       "      <td>0.027813</td>\n",
       "      <td>0.015889</td>\n",
       "      <td>0.018718</td>\n",
       "      <td>0.040510</td>\n",
       "      <td>0.023966</td>\n",
       "      <td>0.014462</td>\n",
       "      <td>2001</td>\n",
       "      <td>0.019940</td>\n",
       "      <td>26</td>\n",
       "      <td>0.018323</td>\n",
       "      <td>0.008339</td>\n",
       "      <td>0.013812</td>\n",
       "      <td>2</td>\n",
       "    </tr>\n",
       "    <tr>\n",
       "      <th>5255557</th>\n",
       "      <td>12</td>\n",
       "      <td>7</td>\n",
       "      <td>19</td>\n",
       "      <td>0</td>\n",
       "      <td>1</td>\n",
       "      <td>0.040117</td>\n",
       "      <td>0.027813</td>\n",
       "      <td>0.015889</td>\n",
       "      <td>0.018718</td>\n",
       "      <td>0.040510</td>\n",
       "      <td>0.023966</td>\n",
       "      <td>0.014462</td>\n",
       "      <td>2001</td>\n",
       "      <td>0.012676</td>\n",
       "      <td>15</td>\n",
       "      <td>0.020525</td>\n",
       "      <td>0.011069</td>\n",
       "      <td>0.013812</td>\n",
       "      <td>2</td>\n",
       "    </tr>\n",
       "  </tbody>\n",
       "</table>\n",
       "<p>5255558 rows × 19 columns</p>\n",
       "</div>"
      ],
      "text/plain": [
       "         C_MNTH  C_WDAY  C_HOUR  C_SEV  C_VEHS    C_CONF    C_RCFG    C_WTHR  \\\n",
       "0             1       1      20      0       2  0.012446  0.010090  0.015889   \n",
       "1             1       1      20      0       2  0.012446  0.010090  0.015889   \n",
       "2             1       1      20      0       2  0.012446  0.010090  0.015889   \n",
       "3             1       1       8      0       1  0.031366  0.010090  0.027297   \n",
       "4             1       1       8      0       1  0.031366  0.010090  0.027297   \n",
       "...         ...     ...     ...    ...     ...       ...       ...       ...   \n",
       "5255553      12       7      14      0       2  0.017569  0.027813  0.015889   \n",
       "5255554      12       7      14      0       2  0.017569  0.027813  0.015889   \n",
       "5255555      12       7      19      0       1  0.040117  0.027813  0.015889   \n",
       "5255556      12       7      19      0       1  0.040117  0.027813  0.015889   \n",
       "5255557      12       7      19      0       1  0.040117  0.027813  0.015889   \n",
       "\n",
       "           C_RSUR    C_RALN    C_TRAF    V_TYPE  V_YEAR     P_SEX  P_AGE  \\\n",
       "0        0.020002  0.037848  0.013484  0.024478    1990  0.019940     41   \n",
       "1        0.020002  0.037848  0.013484  0.014462    1987  0.019940     19   \n",
       "2        0.020002  0.037848  0.013484  0.014462    1987  0.012676     20   \n",
       "3        0.018718  0.035336  0.023966  0.014462    1986  0.019940     46   \n",
       "4        0.018718  0.035336  0.023966  0.029604    2000  0.019940      5   \n",
       "...           ...       ...       ...       ...     ...       ...    ...   \n",
       "5255553  0.020002  0.013352  0.023966  0.016861    2008  0.019940     44   \n",
       "5255554  0.020002  0.013352  0.023966  0.016861    2008  0.019940     34   \n",
       "5255555  0.018718  0.040510  0.023966  0.014462    2001  0.012676     35   \n",
       "5255556  0.018718  0.040510  0.023966  0.014462    2001  0.019940     26   \n",
       "5255557  0.018718  0.040510  0.023966  0.014462    2001  0.012676     15   \n",
       "\n",
       "            P_PSN    P_ISEV    P_SAFE  P_USER  \n",
       "0        0.015195  0.008339  0.013812       1  \n",
       "1        0.015195  0.008339  0.013812       1  \n",
       "2        0.018782  0.011069  0.013812       2  \n",
       "3        0.015195  0.008339  0.013812       1  \n",
       "4        0.030524  0.011069  0.013812       3  \n",
       "...           ...       ...       ...     ...  \n",
       "5255553  0.014485  0.008339  0.013812       1  \n",
       "5255554  0.018323  0.011069  0.013812       2  \n",
       "5255555  0.014485  0.011069  0.013812       1  \n",
       "5255556  0.018323  0.008339  0.013812       2  \n",
       "5255557  0.020525  0.011069  0.013812       2  \n",
       "\n",
       "[5255558 rows x 19 columns]"
      ]
     },
     "execution_count": 10,
     "metadata": {},
     "output_type": "execute_result"
    }
   ],
   "source": [
    "df_car_t = model.transform(df_car)\n",
    "df_car_t"
   ]
  },
  {
   "cell_type": "markdown",
   "metadata": {},
   "source": [
    "Comprobamos nuevamente si tras el encoding aún permanecian missing values. "
   ]
  },
  {
   "cell_type": "code",
   "execution_count": 11,
   "metadata": {
    "scrolled": true
   },
   "outputs": [
    {
     "data": {
      "text/html": [
       "<div>\n",
       "<style scoped>\n",
       "    .dataframe tbody tr th:only-of-type {\n",
       "        vertical-align: middle;\n",
       "    }\n",
       "\n",
       "    .dataframe tbody tr th {\n",
       "        vertical-align: top;\n",
       "    }\n",
       "\n",
       "    .dataframe thead th {\n",
       "        text-align: right;\n",
       "    }\n",
       "</style>\n",
       "<table border=\"1\" class=\"dataframe\">\n",
       "  <thead>\n",
       "    <tr style=\"text-align: right;\">\n",
       "      <th></th>\n",
       "      <th>Number of NA</th>\n",
       "      <th>Percent NA</th>\n",
       "    </tr>\n",
       "  </thead>\n",
       "  <tbody>\n",
       "  </tbody>\n",
       "</table>\n",
       "</div>"
      ],
      "text/plain": [
       "Empty DataFrame\n",
       "Columns: [Number of NA, Percent NA]\n",
       "Index: []"
      ]
     },
     "execution_count": 11,
     "metadata": {},
     "output_type": "execute_result"
    }
   ],
   "source": [
    "access_NA(df_car_t)"
   ]
  },
  {
   "cell_type": "markdown",
   "metadata": {},
   "source": [
    "Observamos que solo dos variables siguen teniendo missing values. Como P_USER cuenta con un porcentaje del 3% de valores missing sobre el total de sus valores, decidimos modificar dichos valores por la moda, es decir, el valor mas repetido.\n",
    "\n",
    "Con la variable restante. al contar con un porcentaje casi insignificante decidimos eliminarlos del dataset."
   ]
  },
  {
   "cell_type": "code",
   "execution_count": 12,
   "metadata": {},
   "outputs": [
    {
     "data": {
      "text/plain": [
       "array([1, 2, 3, 4, 5], dtype=int64)"
      ]
     },
     "execution_count": 12,
     "metadata": {},
     "output_type": "execute_result"
    }
   ],
   "source": [
    "df_car_t['P_USER'] = df_car_t['P_USER'].fillna((df_car_t['P_USER'].mode()[0]))\n",
    "df_car_t['P_USER'].unique()"
   ]
  },
  {
   "cell_type": "code",
   "execution_count": 13,
   "metadata": {},
   "outputs": [],
   "source": [
    "df_car_t = df_car_t.dropna()"
   ]
  },
  {
   "cell_type": "markdown",
   "metadata": {},
   "source": [
    "Comprobacion de que no hay ningun Nan más en el dataset."
   ]
  },
  {
   "cell_type": "code",
   "execution_count": 14,
   "metadata": {},
   "outputs": [
    {
     "data": {
      "text/html": [
       "<div>\n",
       "<style scoped>\n",
       "    .dataframe tbody tr th:only-of-type {\n",
       "        vertical-align: middle;\n",
       "    }\n",
       "\n",
       "    .dataframe tbody tr th {\n",
       "        vertical-align: top;\n",
       "    }\n",
       "\n",
       "    .dataframe thead th {\n",
       "        text-align: right;\n",
       "    }\n",
       "</style>\n",
       "<table border=\"1\" class=\"dataframe\">\n",
       "  <thead>\n",
       "    <tr style=\"text-align: right;\">\n",
       "      <th></th>\n",
       "      <th>Number of NA</th>\n",
       "      <th>Percent NA</th>\n",
       "    </tr>\n",
       "  </thead>\n",
       "  <tbody>\n",
       "  </tbody>\n",
       "</table>\n",
       "</div>"
      ],
      "text/plain": [
       "Empty DataFrame\n",
       "Columns: [Number of NA, Percent NA]\n",
       "Index: []"
      ]
     },
     "execution_count": 14,
     "metadata": {},
     "output_type": "execute_result"
    }
   ],
   "source": [
    "access_NA(df_car_t)"
   ]
  },
  {
   "cell_type": "markdown",
   "metadata": {},
   "source": [
    "# Correlacion\n",
    "\n",
    "Tras convertir todo el data set en variables continuas (numéricas), decidimos hacer una correlacion spearman la cual nos mostrara de manera visual y generalizada las correlaciones de todas las variables entre sí."
   ]
  },
  {
   "cell_type": "code",
   "execution_count": 15,
   "metadata": {},
   "outputs": [],
   "source": [
    "corr = df_car_t.corr(method = 'spearman')"
   ]
  },
  {
   "cell_type": "code",
   "execution_count": 16,
   "metadata": {},
   "outputs": [
    {
     "data": {
      "image/png": "[encoded data removed]",
      "text/plain": [
       "<Figure size 720x576 with 2 Axes>"
      ]
     },
     "metadata": {
      "needs_background": "light"
     },
     "output_type": "display_data"
    }
   ],
   "source": [
    "plt.figure(figsize = (10, 8))\n",
    "sns.heatmap(corr.abs(), cmap = 'viridis')\n",
    "plt.show()"
   ]
  },
  {
   "cell_type": "code",
   "execution_count": 17,
   "metadata": {},
   "outputs": [
    {
     "data": {
      "text/html": [
       "<div>\n",
       "<style scoped>\n",
       "    .dataframe tbody tr th:only-of-type {\n",
       "        vertical-align: middle;\n",
       "    }\n",
       "\n",
       "    .dataframe tbody tr th {\n",
       "        vertical-align: top;\n",
       "    }\n",
       "\n",
       "    .dataframe thead th {\n",
       "        text-align: right;\n",
       "    }\n",
       "</style>\n",
       "<table border=\"1\" class=\"dataframe\">\n",
       "  <thead>\n",
       "    <tr style=\"text-align: right;\">\n",
       "      <th></th>\n",
       "      <th>level_0</th>\n",
       "      <th>level_1</th>\n",
       "      <th>correlation</th>\n",
       "    </tr>\n",
       "  </thead>\n",
       "  <tbody>\n",
       "    <tr>\n",
       "      <th>357</th>\n",
       "      <td>P_USER</td>\n",
       "      <td>P_PSN</td>\n",
       "      <td>0.739235</td>\n",
       "    </tr>\n",
       "    <tr>\n",
       "      <th>99</th>\n",
       "      <td>C_CONF</td>\n",
       "      <td>C_VEHS</td>\n",
       "      <td>0.568066</td>\n",
       "    </tr>\n",
       "    <tr>\n",
       "      <th>196</th>\n",
       "      <td>C_TRAF</td>\n",
       "      <td>C_RCFG</td>\n",
       "      <td>0.486168</td>\n",
       "    </tr>\n",
       "    <tr>\n",
       "      <th>159</th>\n",
       "      <td>C_RSUR</td>\n",
       "      <td>C_WTHR</td>\n",
       "      <td>0.430428</td>\n",
       "    </tr>\n",
       "    <tr>\n",
       "      <th>356</th>\n",
       "      <td>P_USER</td>\n",
       "      <td>P_AGE</td>\n",
       "      <td>0.252110</td>\n",
       "    </tr>\n",
       "    <tr>\n",
       "      <th>299</th>\n",
       "      <td>P_PSN</td>\n",
       "      <td>P_AGE</td>\n",
       "      <td>0.250801</td>\n",
       "    </tr>\n",
       "    <tr>\n",
       "      <th>195</th>\n",
       "      <td>C_TRAF</td>\n",
       "      <td>C_CONF</td>\n",
       "      <td>0.203634</td>\n",
       "    </tr>\n",
       "    <tr>\n",
       "      <th>308</th>\n",
       "      <td>P_ISEV</td>\n",
       "      <td>C_VEHS</td>\n",
       "      <td>0.192265</td>\n",
       "    </tr>\n",
       "    <tr>\n",
       "      <th>176</th>\n",
       "      <td>C_RALN</td>\n",
       "      <td>C_CONF</td>\n",
       "      <td>0.191684</td>\n",
       "    </tr>\n",
       "    <tr>\n",
       "      <th>213</th>\n",
       "      <td>V_TYPE</td>\n",
       "      <td>C_VEHS</td>\n",
       "      <td>0.183342</td>\n",
       "    </tr>\n",
       "    <tr>\n",
       "      <th>199</th>\n",
       "      <td>C_TRAF</td>\n",
       "      <td>C_RALN</td>\n",
       "      <td>0.181963</td>\n",
       "    </tr>\n",
       "    <tr>\n",
       "      <th>359</th>\n",
       "      <td>P_USER</td>\n",
       "      <td>P_SAFE</td>\n",
       "      <td>0.179246</td>\n",
       "    </tr>\n",
       "    <tr>\n",
       "      <th>339</th>\n",
       "      <td>P_SAFE</td>\n",
       "      <td>P_ISEV</td>\n",
       "      <td>0.178185</td>\n",
       "    </tr>\n",
       "    <tr>\n",
       "      <th>296</th>\n",
       "      <td>P_PSN</td>\n",
       "      <td>V_TYPE</td>\n",
       "      <td>0.174900</td>\n",
       "    </tr>\n",
       "    <tr>\n",
       "      <th>309</th>\n",
       "      <td>P_ISEV</td>\n",
       "      <td>C_CONF</td>\n",
       "      <td>0.174252</td>\n",
       "    </tr>\n",
       "    <tr>\n",
       "      <th>119</th>\n",
       "      <td>C_RCFG</td>\n",
       "      <td>C_CONF</td>\n",
       "      <td>0.166596</td>\n",
       "    </tr>\n",
       "    <tr>\n",
       "      <th>177</th>\n",
       "      <td>C_RALN</td>\n",
       "      <td>C_RCFG</td>\n",
       "      <td>0.161983</td>\n",
       "    </tr>\n",
       "    <tr>\n",
       "      <th>353</th>\n",
       "      <td>P_USER</td>\n",
       "      <td>V_TYPE</td>\n",
       "      <td>0.159011</td>\n",
       "    </tr>\n",
       "    <tr>\n",
       "      <th>297</th>\n",
       "      <td>P_PSN</td>\n",
       "      <td>V_YEAR</td>\n",
       "      <td>0.153576</td>\n",
       "    </tr>\n",
       "    <tr>\n",
       "      <th>214</th>\n",
       "      <td>V_TYPE</td>\n",
       "      <td>C_CONF</td>\n",
       "      <td>0.147297</td>\n",
       "    </tr>\n",
       "    <tr>\n",
       "      <th>298</th>\n",
       "      <td>P_PSN</td>\n",
       "      <td>P_SEX</td>\n",
       "      <td>0.144979</td>\n",
       "    </tr>\n",
       "    <tr>\n",
       "      <th>346</th>\n",
       "      <td>P_USER</td>\n",
       "      <td>C_VEHS</td>\n",
       "      <td>0.143776</td>\n",
       "    </tr>\n",
       "    <tr>\n",
       "      <th>194</th>\n",
       "      <td>C_TRAF</td>\n",
       "      <td>C_VEHS</td>\n",
       "      <td>0.141568</td>\n",
       "    </tr>\n",
       "    <tr>\n",
       "      <th>175</th>\n",
       "      <td>C_RALN</td>\n",
       "      <td>C_VEHS</td>\n",
       "      <td>0.141143</td>\n",
       "    </tr>\n",
       "    <tr>\n",
       "      <th>317</th>\n",
       "      <td>P_ISEV</td>\n",
       "      <td>P_SEX</td>\n",
       "      <td>0.138705</td>\n",
       "    </tr>\n",
       "    <tr>\n",
       "      <th>358</th>\n",
       "      <td>P_USER</td>\n",
       "      <td>P_ISEV</td>\n",
       "      <td>0.137564</td>\n",
       "    </tr>\n",
       "    <tr>\n",
       "      <th>338</th>\n",
       "      <td>P_SAFE</td>\n",
       "      <td>P_PSN</td>\n",
       "      <td>0.132098</td>\n",
       "    </tr>\n",
       "    <tr>\n",
       "      <th>157</th>\n",
       "      <td>C_RSUR</td>\n",
       "      <td>C_CONF</td>\n",
       "      <td>0.122087</td>\n",
       "    </tr>\n",
       "    <tr>\n",
       "      <th>198</th>\n",
       "      <td>C_TRAF</td>\n",
       "      <td>C_RSUR</td>\n",
       "      <td>0.121344</td>\n",
       "    </tr>\n",
       "    <tr>\n",
       "      <th>98</th>\n",
       "      <td>C_CONF</td>\n",
       "      <td>C_SEV</td>\n",
       "      <td>0.116271</td>\n",
       "    </tr>\n",
       "    <tr>\n",
       "      <th>289</th>\n",
       "      <td>P_PSN</td>\n",
       "      <td>C_VEHS</td>\n",
       "      <td>0.114330</td>\n",
       "    </tr>\n",
       "    <tr>\n",
       "      <th>307</th>\n",
       "      <td>P_ISEV</td>\n",
       "      <td>C_SEV</td>\n",
       "      <td>0.113084</td>\n",
       "    </tr>\n",
       "    <tr>\n",
       "      <th>355</th>\n",
       "      <td>P_USER</td>\n",
       "      <td>P_SEX</td>\n",
       "      <td>0.110507</td>\n",
       "    </tr>\n",
       "    <tr>\n",
       "      <th>158</th>\n",
       "      <td>C_RSUR</td>\n",
       "      <td>C_RCFG</td>\n",
       "      <td>0.106243</td>\n",
       "    </tr>\n",
       "    <tr>\n",
       "      <th>347</th>\n",
       "      <td>P_USER</td>\n",
       "      <td>C_CONF</td>\n",
       "      <td>0.102540</td>\n",
       "    </tr>\n",
       "    <tr>\n",
       "      <th>139</th>\n",
       "      <td>C_WTHR</td>\n",
       "      <td>C_RCFG</td>\n",
       "      <td>0.100637</td>\n",
       "    </tr>\n",
       "    <tr>\n",
       "      <th>118</th>\n",
       "      <td>C_RCFG</td>\n",
       "      <td>C_VEHS</td>\n",
       "      <td>0.100310</td>\n",
       "    </tr>\n",
       "  </tbody>\n",
       "</table>\n",
       "</div>"
      ],
      "text/plain": [
       "    level_0 level_1  correlation\n",
       "357  P_USER   P_PSN     0.739235\n",
       "99   C_CONF  C_VEHS     0.568066\n",
       "196  C_TRAF  C_RCFG     0.486168\n",
       "159  C_RSUR  C_WTHR     0.430428\n",
       "356  P_USER   P_AGE     0.252110\n",
       "299   P_PSN   P_AGE     0.250801\n",
       "195  C_TRAF  C_CONF     0.203634\n",
       "308  P_ISEV  C_VEHS     0.192265\n",
       "176  C_RALN  C_CONF     0.191684\n",
       "213  V_TYPE  C_VEHS     0.183342\n",
       "199  C_TRAF  C_RALN     0.181963\n",
       "359  P_USER  P_SAFE     0.179246\n",
       "339  P_SAFE  P_ISEV     0.178185\n",
       "296   P_PSN  V_TYPE     0.174900\n",
       "309  P_ISEV  C_CONF     0.174252\n",
       "119  C_RCFG  C_CONF     0.166596\n",
       "177  C_RALN  C_RCFG     0.161983\n",
       "353  P_USER  V_TYPE     0.159011\n",
       "297   P_PSN  V_YEAR     0.153576\n",
       "214  V_TYPE  C_CONF     0.147297\n",
       "298   P_PSN   P_SEX     0.144979\n",
       "346  P_USER  C_VEHS     0.143776\n",
       "194  C_TRAF  C_VEHS     0.141568\n",
       "175  C_RALN  C_VEHS     0.141143\n",
       "317  P_ISEV   P_SEX     0.138705\n",
       "358  P_USER  P_ISEV     0.137564\n",
       "338  P_SAFE   P_PSN     0.132098\n",
       "157  C_RSUR  C_CONF     0.122087\n",
       "198  C_TRAF  C_RSUR     0.121344\n",
       "98   C_CONF   C_SEV     0.116271\n",
       "289   P_PSN  C_VEHS     0.114330\n",
       "307  P_ISEV   C_SEV     0.113084\n",
       "355  P_USER   P_SEX     0.110507\n",
       "158  C_RSUR  C_RCFG     0.106243\n",
       "347  P_USER  C_CONF     0.102540\n",
       "139  C_WTHR  C_RCFG     0.100637\n",
       "118  C_RCFG  C_VEHS     0.100310"
      ]
     },
     "execution_count": 17,
     "metadata": {},
     "output_type": "execute_result"
    }
   ],
   "source": [
    "new_corr = corr.abs()\n",
    "new_corr.loc[:,:] = np.tril(new_corr, k=-1) \n",
    "new_corr = new_corr.stack().to_frame('correlation').reset_index().sort_values(by='correlation', ascending=False)\n",
    "new_corr[new_corr.correlation > 0.1]"
   ]
  },
  {
   "cell_type": "markdown",
   "metadata": {},
   "source": [
    "# Sampling variable C_SEV"
   ]
  },
  {
   "cell_type": "code",
   "execution_count": 18,
   "metadata": {},
   "outputs": [],
   "source": [
    "from imblearn.over_sampling import SMOTE\n",
    "from sklearn.model_selection import train_test_split"
   ]
  },
  {
   "cell_type": "markdown",
   "metadata": {},
   "source": [
    "Como ya vimos en el analisis EDA, es facilmente apreciable la gran diferencia del computo total de valores 0 y 1 en la variable objetivo. Este caso puede afectar a predecir peor los ceros y unos, por esta razon realizaremos un aumento del valor menor para compensar esa diferencia y reducir la brecha entre ambos valores.\n",
    "\n",
    "Primeramente aislaremos la variable traget del resto del data set"
   ]
  },
  {
   "cell_type": "code",
   "execution_count": 19,
   "metadata": {},
   "outputs": [],
   "source": [
    "X = df_car_t.drop('C_SEV', axis=1)\n",
    "Y = df_car_t.C_SEV"
   ]
  },
  {
   "cell_type": "markdown",
   "metadata": {},
   "source": [
    "Realizamos un split de los vectores antes creados donde train sera la muestra completa menos el porcentaje que asignamos a xtest para testear os resultados de xtrain. Realizamos el mismo proceso para la variable target."
   ]
  },
  {
   "cell_type": "code",
   "execution_count": 20,
   "metadata": {},
   "outputs": [],
   "source": [
    "xtrain, xtest, ytrain, ytest = train_test_split( X, Y, test_size=0.2, random_state=0)"
   ]
  },
  {
   "cell_type": "markdown",
   "metadata": {},
   "source": [
    "A continuación realizamos un paso muy importante comentado al principio de este apartado, el aumento de la muestra para el valor minoritario dentro de C_SEV. Para ello importamos SMOTE cuya funcion principal es aumentar los valores uno(al menos una muerte) de manera sintetica, es decir, no son valores reales para que el resultado final no se vea afectado por este desajuste."
   ]
  },
  {
   "cell_type": "code",
   "execution_count": 21,
   "metadata": {},
   "outputs": [],
   "source": [
    "sm = SMOTE(random_state = 12345, n_jobs=-1, sampling_strategy=0.3)\n",
    "X_train_sampled, y_train_sampled =sm.fit_resample(xtrain, ytrain)\n",
    "X_train = pd.DataFrame(X_train_sampled, columns = xtrain.columns)"
   ]
  },
  {
   "cell_type": "markdown",
   "metadata": {},
   "source": [
    "Comprobamos que el size de los respectivos Xtrain e ytrain siguen siendo igual, ya que esto podría darnos problemas a la hora de aplicar los modelos"
   ]
  },
  {
   "cell_type": "code",
   "execution_count": 22,
   "metadata": {},
   "outputs": [
    {
     "name": "stdout",
     "output_type": "stream",
     "text": [
      "5373681\n",
      "1051112\n",
      "5373681\n"
     ]
    }
   ],
   "source": [
    "print(len(X_train))\n",
    "print(len(xtest))\n",
    "print(len(y_train_sampled))\n",
    "print(len(ytest))"
   ]
  },
  {
   "cell_type": "markdown",
   "metadata": {},
   "source": [
    "Finalmente, tambien realizaremos una normalización de las variables cuya funcionalidad principal es calcular la distancia o posicion del valor respecto de su minimo comprimido en un rago delimitado por su propio máximo y minimo. "
   ]
  },
  {
   "cell_type": "code",
   "execution_count": 23,
   "metadata": {},
   "outputs": [],
   "source": [
    "from sklearn.preprocessing import StandardScaler\n",
    "scaler = StandardScaler()\n",
    "model_scaled = scaler.fit(X_train)\n",
    "X_train_scaled = pd.DataFrame(scaler.transform(X_train), columns=X_train.columns, index=X_train.index)\n",
    "X_test_scaled = pd.DataFrame(scaler.transform(xtest), columns=xtest.columns, index=xtest.index)"
   ]
  },
  {
   "cell_type": "code",
   "execution_count": 24,
   "metadata": {},
   "outputs": [
    {
     "name": "stdout",
     "output_type": "stream",
     "text": [
      "5373681\n",
      "1051112\n",
      "5373681\n",
      "1051112\n"
     ]
    }
   ],
   "source": [
    "print(len(X_train_scaled))\n",
    "print(len(X_test_scaled))\n",
    "print(len(y_train_sampled))\n",
    "print(len(ytest))"
   ]
  },
  {
   "cell_type": "markdown",
   "metadata": {},
   "source": [
    "# Seleccion de variables PCA \n",
    "\n",
    "Una vez ya arregladas las variables y sus respectivos valores, antes de pasar al modelo vamos a realizar un modelo previo el cual se basa en obtener ciertos componentes los cuales son inferiores al numero de variables que tenemos para explicar la variable objetivo. Por tanto, condensa la información aportada de todas las variables en unos pocos componentes.\n",
    "\n",
    "Estos componentes estan ordenados de mayor a menor y constituyen cada uno una dimension compuesta por las asociaciones entre la variable objetivo y las diferentes variables. Por tanto, el primer componente tendra el mayor peso.\n",
    "\n",
    "Cuanto mayor sea el valor de la variable, más importante será la variable correspondiente en el cálculo del componente."
   ]
  },
  {
   "cell_type": "code",
   "execution_count": 27,
   "metadata": {},
   "outputs": [],
   "source": [
    "pca = PCA() #primero lo hago sin fijar el número de componentes para poder ver cual es la varianza total de cada una\n",
    "\n",
    "pca.fit(X_train_scaled)\n",
    "X_train_pca = pca.transform(X_train_scaled)\n",
    "X_test_pca = pca.transform(X_test_scaled)"
   ]
  },
  {
   "cell_type": "code",
   "execution_count": 28,
   "metadata": {},
   "outputs": [
    {
     "data": {
      "image/png": "[encoded data removed]",
      "text/plain": [
       "<Figure size 960x480 with 1 Axes>"
      ]
     },
     "metadata": {
      "needs_background": "light"
     },
     "output_type": "display_data"
    }
   ],
   "source": [
    "exp_var_pca = pca.explained_variance_ratio_\n",
    "\n",
    "cum_sum_eigenvalues = np.cumsum(exp_var_pca)\n",
    "\n",
    "threshold = 0.75\n",
    "plt.figure(figsize=(12, 6), dpi=80)\n",
    "plt.bar(range(0,len(exp_var_pca)), exp_var_pca, alpha=0.5, align='center', label='Individual explained variance')\n",
    "plt.step(range(0,len(cum_sum_eigenvalues)), cum_sum_eigenvalues, where='mid',label='Cumulative explained variance')\n",
    "plt.axhline(y=threshold, color='r', linestyle='-')\n",
    "\n",
    "plt.ylabel('Explained variance ratio')\n",
    "plt.xlabel('Principal component index')\n",
    "plt.legend(loc='best')\n",
    "plt.tight_layout()\n",
    "plt.show()"
   ]
  },
  {
   "cell_type": "markdown",
   "metadata": {},
   "source": [
    "Fijandonos en la grafica superior, vemos que con el treshold establecido el numero correcto de componentes para explicar el comportamiento de la variable es 10."
   ]
  },
  {
   "cell_type": "code",
   "execution_count": 29,
   "metadata": {},
   "outputs": [
    {
     "data": {
      "image/png": "[encoded data removed]",
      "text/plain": [
       "<Figure size 960x480 with 1 Axes>"
      ]
     },
     "metadata": {
      "needs_background": "light"
     },
     "output_type": "display_data"
    }
   ],
   "source": [
    "pca = PCA(n_components=10)\n",
    "\n",
    "pca.fit(X_train_scaled)\n",
    "X_train_pca = pca.transform(X_train_scaled)\n",
    "X_test_pca = pca.transform(X_test_scaled)\n",
    "\n",
    "exp_var_pca = pca.explained_variance_ratio_\n",
    "\n",
    "cum_sum_eigenvalues = np.cumsum(exp_var_pca)\n",
    "\n",
    "threshold = 0.75\n",
    "plt.figure(figsize=(12, 6), dpi=80)\n",
    "plt.bar(range(0,len(exp_var_pca)), exp_var_pca, alpha=0.5, align='center', label='Individual explained variance')\n",
    "plt.step(range(0,len(cum_sum_eigenvalues)), cum_sum_eigenvalues, where='mid',label='Cumulative explained variance')\n",
    "plt.axhline(y=threshold, color='r', linestyle='-')\n",
    "\n",
    "plt.ylabel('Explained variance ratio')\n",
    "plt.xlabel('Principal component index')\n",
    "plt.legend(loc='best')\n",
    "plt.tight_layout()\n",
    "plt.show()"
   ]
  },
  {
   "cell_type": "markdown",
   "metadata": {},
   "source": [
    "Finalmente, segun los componentes obtenidos los agruparemos en un  nuevo dataframe el cual será a partir de aquí nuestras nuevas xtrain e xtest"
   ]
  },
  {
   "cell_type": "code",
   "execution_count": 30,
   "metadata": {},
   "outputs": [
    {
     "data": {
      "text/html": [
       "<div>\n",
       "<style scoped>\n",
       "    .dataframe tbody tr th:only-of-type {\n",
       "        vertical-align: middle;\n",
       "    }\n",
       "\n",
       "    .dataframe tbody tr th {\n",
       "        vertical-align: top;\n",
       "    }\n",
       "\n",
       "    .dataframe thead th {\n",
       "        text-align: right;\n",
       "    }\n",
       "</style>\n",
       "<table border=\"1\" class=\"dataframe\">\n",
       "  <thead>\n",
       "    <tr style=\"text-align: right;\">\n",
       "      <th></th>\n",
       "      <th>PCA_0</th>\n",
       "      <th>PCA_1</th>\n",
       "      <th>PCA_2</th>\n",
       "      <th>PCA_3</th>\n",
       "      <th>PCA_4</th>\n",
       "      <th>PCA_5</th>\n",
       "      <th>PCA_6</th>\n",
       "      <th>PCA_7</th>\n",
       "      <th>PCA_8</th>\n",
       "      <th>PCA_9</th>\n",
       "    </tr>\n",
       "  </thead>\n",
       "  <tbody>\n",
       "    <tr>\n",
       "      <th>0</th>\n",
       "      <td>-0.064959</td>\n",
       "      <td>-0.927713</td>\n",
       "      <td>1.021221</td>\n",
       "      <td>-0.614613</td>\n",
       "      <td>-0.172439</td>\n",
       "      <td>0.945522</td>\n",
       "      <td>0.812201</td>\n",
       "      <td>-0.221614</td>\n",
       "      <td>-0.777036</td>\n",
       "      <td>0.451877</td>\n",
       "    </tr>\n",
       "    <tr>\n",
       "      <th>1</th>\n",
       "      <td>0.606134</td>\n",
       "      <td>-0.606572</td>\n",
       "      <td>0.026933</td>\n",
       "      <td>1.247239</td>\n",
       "      <td>-0.761469</td>\n",
       "      <td>1.298610</td>\n",
       "      <td>1.385577</td>\n",
       "      <td>-0.880288</td>\n",
       "      <td>-0.025394</td>\n",
       "      <td>-0.560066</td>\n",
       "    </tr>\n",
       "    <tr>\n",
       "      <th>2</th>\n",
       "      <td>0.388529</td>\n",
       "      <td>2.892399</td>\n",
       "      <td>0.785844</td>\n",
       "      <td>0.010679</td>\n",
       "      <td>-0.638172</td>\n",
       "      <td>0.773639</td>\n",
       "      <td>0.538911</td>\n",
       "      <td>-0.841573</td>\n",
       "      <td>0.491847</td>\n",
       "      <td>2.470473</td>\n",
       "    </tr>\n",
       "    <tr>\n",
       "      <th>3</th>\n",
       "      <td>1.440274</td>\n",
       "      <td>-1.580730</td>\n",
       "      <td>-0.721348</td>\n",
       "      <td>-0.899456</td>\n",
       "      <td>-0.767012</td>\n",
       "      <td>0.750992</td>\n",
       "      <td>-0.443611</td>\n",
       "      <td>-0.398142</td>\n",
       "      <td>-0.512382</td>\n",
       "      <td>0.835128</td>\n",
       "    </tr>\n",
       "    <tr>\n",
       "      <th>4</th>\n",
       "      <td>-1.617591</td>\n",
       "      <td>1.156087</td>\n",
       "      <td>0.402289</td>\n",
       "      <td>0.054418</td>\n",
       "      <td>1.243247</td>\n",
       "      <td>-0.965560</td>\n",
       "      <td>0.042381</td>\n",
       "      <td>-0.830873</td>\n",
       "      <td>-0.685114</td>\n",
       "      <td>-1.193587</td>\n",
       "    </tr>\n",
       "  </tbody>\n",
       "</table>\n",
       "</div>"
      ],
      "text/plain": [
       "      PCA_0     PCA_1     PCA_2     PCA_3     PCA_4     PCA_5     PCA_6  \\\n",
       "0 -0.064959 -0.927713  1.021221 -0.614613 -0.172439  0.945522  0.812201   \n",
       "1  0.606134 -0.606572  0.026933  1.247239 -0.761469  1.298610  1.385577   \n",
       "2  0.388529  2.892399  0.785844  0.010679 -0.638172  0.773639  0.538911   \n",
       "3  1.440274 -1.580730 -0.721348 -0.899456 -0.767012  0.750992 -0.443611   \n",
       "4 -1.617591  1.156087  0.402289  0.054418  1.243247 -0.965560  0.042381   \n",
       "\n",
       "      PCA_7     PCA_8     PCA_9  \n",
       "0 -0.221614 -0.777036  0.451877  \n",
       "1 -0.880288 -0.025394 -0.560066  \n",
       "2 -0.841573  0.491847  2.470473  \n",
       "3 -0.398142 -0.512382  0.835128  \n",
       "4 -0.830873 -0.685114 -1.193587  "
      ]
     },
     "execution_count": 30,
     "metadata": {},
     "output_type": "execute_result"
    }
   ],
   "source": [
    "X_train_pca = pd.DataFrame(X_train_pca)\n",
    "X_test_pca = pd.DataFrame(X_test_pca)\n",
    "X_train_pca.columns = ['PCA_'+str(i) for i in X_train_pca.columns]\n",
    "X_test_pca.columns = ['PCA_'+str(i) for i in X_test_pca.columns]\n",
    "X_train_pca.head()"
   ]
  },
  {
   "cell_type": "code",
   "execution_count": 31,
   "metadata": {},
   "outputs": [
    {
     "data": {
      "text/plain": [
       "(5373681, 10)"
      ]
     },
     "execution_count": 31,
     "metadata": {},
     "output_type": "execute_result"
    }
   ],
   "source": [
    "X_train_pca.shape"
   ]
  },
  {
   "cell_type": "markdown",
   "metadata": {},
   "source": [
    "# MODELO RANDOM FOREST"
   ]
  },
  {
   "cell_type": "code",
   "execution_count": null,
   "metadata": {},
   "outputs": [],
   "source": [
    "from sklearn.model_selection import GridSearchCV\n",
    "from sklearn.metrics import accuracy_score\n",
    "from sklearn.metrics import confusion_matrix\n",
    "from sklearn.metrics import roc_auc_score\n",
    "from sklearn.metrics import roc_curve\n",
    "import matplotlib.pyplot as plt \n",
    "from sklearn.metrics import roc_auc_score, roc_curve, plot_roc_curve\n",
    "from sklearn.metrics import classification_report\n",
    "from sklearn.ensemble import RandomForestRegressor, RandomForestClassifier"
   ]
  },
  {
   "cell_type": "markdown",
   "metadata": {},
   "source": [
    "### Obtencion de parametros y entrenamiento"
   ]
  },
  {
   "cell_type": "markdown",
   "metadata": {},
   "source": [
    "Antes de entrenar el modelo, vamos a obtener los mejores hyperparametros con un CV.  Max_depth definimos la profundidad de nuestro arbol, es decir, entre 2 y 6 decisiones binarias. Por otro lado con el criterio busvamos una funcion que  mida la calidad de la division. "
   ]
  },
  {
   "cell_type": "code",
   "execution_count": 35,
   "metadata": {},
   "outputs": [],
   "source": [
    "param_test = {\n",
    "    'max_depth' : [2,6],\n",
    "    'max_features': ['auto', 'sqrt', 'log2'],\n",
    "    'criterion' :['gini','entropy'] \n",
    " }\n",
    "\n",
    "gsearch_RandomForest = GridSearchCV(estimator = RandomForestClassifier(80), \n",
    "                               param_grid = param_test, scoring='roc_auc',n_jobs=-1, refit = True)"
   ]
  },
  {
   "cell_type": "code",
   "execution_count": 37,
   "metadata": {},
   "outputs": [
    {
     "data": {
      "text/plain": [
       "GridSearchCV(estimator=RandomForestClassifier(n_estimators=80), n_jobs=-1,\n",
       "             param_grid={'criterion': ['gini', 'entropy'], 'max_depth': [2, 6],\n",
       "                         'max_features': ['auto', 'sqrt', 'log2']},\n",
       "             scoring='roc_auc')"
      ]
     },
     "execution_count": 37,
     "metadata": {},
     "output_type": "execute_result"
    }
   ],
   "source": [
    "gsearch_RandomForest.fit(X_train_pca, y_train_sampled)"
   ]
  },
  {
   "cell_type": "markdown",
   "metadata": {},
   "source": [
    "Aqui obersvamos cuales son los mejores parametros que se ajustan a nuestros datos según nuestros criterios establecidos."
   ]
  },
  {
   "cell_type": "code",
   "execution_count": 38,
   "metadata": {},
   "outputs": [
    {
     "data": {
      "text/plain": [
       "RandomForestClassifier(criterion='entropy', max_depth=6, max_features='sqrt',\n",
       "                       n_estimators=80)"
      ]
     },
     "execution_count": 38,
     "metadata": {},
     "output_type": "execute_result"
    }
   ],
   "source": [
    "gsearch_RandomForest.best_estimator_"
   ]
  },
  {
   "cell_type": "code",
   "execution_count": 39,
   "metadata": {},
   "outputs": [
    {
     "data": {
      "text/plain": [
       "{'criterion': 'entropy', 'max_depth': 6, 'max_features': 'sqrt'}"
      ]
     },
     "execution_count": 39,
     "metadata": {},
     "output_type": "execute_result"
    }
   ],
   "source": [
    "gsearch_RandomForest.best_params_"
   ]
  },
  {
   "cell_type": "markdown",
   "metadata": {},
   "source": [
    "A continuación, entrenamos el modelo con los hyperparametros obtenidos"
   ]
  },
  {
   "cell_type": "code",
   "execution_count": 42,
   "metadata": {},
   "outputs": [
    {
     "data": {
      "text/plain": [
       "RandomForestClassifier(criterion='entropy', max_depth=6, max_features='sqrt',\n",
       "                       n_estimators=80)"
      ]
     },
     "execution_count": 42,
     "metadata": {},
     "output_type": "execute_result"
    }
   ],
   "source": [
    "Best_RF = gsearch_RandomForest.best_estimator_\n",
    "Best_RF.fit(X_train_pca, y_train_sampled)"
   ]
  },
  {
   "cell_type": "code",
   "execution_count": 43,
   "metadata": {},
   "outputs": [
    {
     "name": "stdout",
     "output_type": "stream",
     "text": [
      "[[0.89592413 0.10407587]\n",
      " [0.90185417 0.09814583]\n",
      " [0.6157993  0.3842007 ]\n",
      " ...\n",
      " [0.92848421 0.07151579]\n",
      " [0.87189885 0.12810115]\n",
      " [0.92342341 0.07657659]]\n"
     ]
    }
   ],
   "source": [
    "# Probabilidad predictiva de X_test_pca. Observamos un rango muy amplio\n",
    "LeadScore = Best_RF.predict_proba(X_test_pca)\n",
    "print(LeadScore)"
   ]
  },
  {
   "cell_type": "code",
   "execution_count": 44,
   "metadata": {},
   "outputs": [
    {
     "name": "stdout",
     "output_type": "stream",
     "text": [
      "[0 0 0 ... 0 0 0]\n"
     ]
    }
   ],
   "source": [
    "# Prediccion de los valores\n",
    "pred = Best_RF.predict(X_test_pca)\n",
    "\n",
    "# 0 si es incorrecto, 1 si lo es\n",
    "print(pred)"
   ]
  },
  {
   "cell_type": "code",
   "execution_count": 45,
   "metadata": {},
   "outputs": [
    {
     "data": {
      "text/plain": [
       "0.966883643227363"
      ]
     },
     "execution_count": 45,
     "metadata": {},
     "output_type": "execute_result"
    }
   ],
   "source": [
    "# Obtenemos el porcentaje de casos que el modelo ha acertado.\n",
    "accuracy_score(ytest, pred)"
   ]
  },
  {
   "cell_type": "markdown",
   "metadata": {},
   "source": [
    "### Matriz de confianza"
   ]
  },
  {
   "cell_type": "code",
   "execution_count": 79,
   "metadata": {},
   "outputs": [],
   "source": [
    "from sklearn.metrics import confusion_matrix"
   ]
  },
  {
   "cell_type": "code",
   "execution_count": 80,
   "metadata": {},
   "outputs": [
    {
     "data": {
      "image/png": "[encoded data removed]",
      "text/plain": [
       "<Figure size 648x648 with 2 Axes>"
      ]
     },
     "metadata": {
      "needs_background": "light"
     },
     "output_type": "display_data"
    }
   ],
   "source": [
    "# Representacion visual a traves de la matriz de confianza de nuestras predicciones en base a los valores reales\n",
    "cm_rf = confusion_matrix(ytest, pred)\n",
    "plt.figure(figsize=(9,9))\n",
    "sns.heatmap(cm_rf, annot=True, fmt=\".3f\", linewidths=.5, square = True, cmap = 'Blues_r');\n",
    "plt.ylabel('Actual label');"
   ]
  },
  {
   "cell_type": "code",
   "execution_count": 81,
   "metadata": {},
   "outputs": [],
   "source": [
    "from sklearn.metrics import plot_confusion_matrix"
   ]
  },
  {
   "cell_type": "code",
   "execution_count": 84,
   "metadata": {},
   "outputs": [
    {
     "name": "stdout",
     "output_type": "stream",
     "text": [
      "Confusion matrix, without normalization\n",
      "[[1007837   25548]\n",
      " [   9261    8466]]\n",
      "Normalized confusion matrix\n",
      "[[0.97527737 0.02472263]\n",
      " [0.52242342 0.47757658]]\n"
     ]
    },
    {
     "data": {
      "image/png": "[encoded data removed]",
      "text/plain": [
       "<Figure size 432x288 with 2 Axes>"
      ]
     },
     "metadata": {
      "needs_background": "light"
     },
     "output_type": "display_data"
    },
    {
     "data": {
      "image/png": "[encoded data removed]",
      "text/plain": [
       "<Figure size 432x288 with 2 Axes>"
      ]
     },
     "metadata": {
      "needs_background": "light"
     },
     "output_type": "display_data"
    }
   ],
   "source": [
    "# Mostramos tanto la maxtriz de confusion como la normalizada.\n",
    "titles_options = [(\"Confusion matrix, without normalization\", None),\n",
    "                  (\"Normalized confusion matrix\", 'true')]\n",
    "for title, normalize in titles_options:\n",
    "    disp = plot_confusion_matrix(gsearch_RandomForest, X_test_pca, ytest,\n",
    "                                 cmap=plt.cm.Blues,\n",
    "                                 normalize=normalize)\n",
    "    disp.ax_.set_title(title)\n",
    "\n",
    "    print(title)\n",
    "    print(disp.confusion_matrix)\n",
    "\n",
    "plt.show()"
   ]
  },
  {
   "cell_type": "markdown",
   "metadata": {},
   "source": [
    "### AUC-ROC CURVE\n",
    "\n",
    "Esta grafica es una buena métrica para evaluar el rendimiento de nuestro modelo de clasificación, por tanto no esta mostrando que tan bueno es nuestro modelo para predecir entre dos cosas.\n",
    "Observamos como tenemos en el eje x tenemos el false positive rate que es el ratio de fallar un positivo entre el total, y lo contrario con el tru positive rate.\n",
    "\n",
    "Por tanto junto con la matriz de confusion y observando la curva roc, tenemos que para la estimacion del valor cero tenemos un true positive rate cercano al 60%, conocido tambien como sensibilidad o recall, junto a un false positive rate cercano a cero.\n",
    "\n",
    "Por otro lado, contamos con el area de bajo de la curva roc llamada AUC que contiene un 85%, lo que nos quiere decir es el porcentaje de que el modelo pueda distinguir entre ceros y unos."
   ]
  },
  {
   "cell_type": "code",
   "execution_count": 83,
   "metadata": {},
   "outputs": [
    {
     "data": {
      "image/png": "[encoded data removed]",
      "text/plain": [
       "<Figure size 432x288 with 1 Axes>"
      ]
     },
     "metadata": {
      "needs_background": "light"
     },
     "output_type": "display_data"
    }
   ],
   "source": [
    "metrics.plot_roc_curve(gsearch_RandomForest, X_test_pca, ytest)\n",
    "plt.show()"
   ]
  },
  {
   "cell_type": "markdown",
   "metadata": {},
   "source": [
    "### Cumulative Gain Curve\n",
    "\n",
    "En la baseline de la curva de ganancias acumuladas tiene la misma tendencia que la curva class 0, lo cual nos indica que a medidas que aumentamos el porcentaje de la muestra hasta llegar al 100%, vamos obteniendo el mismo numero de valores verdaderos de cero. Por lo contrario, la linea de class 1 sgue una tendencia diferente, y es que entre el 0% y 20% de la muestra obtenemos casi el 80% de sus valores verdaderos. Seguidamente, la curva empieza a tebner una tendencia mas plana hasta llegar a obtener todos los valores vervaderos con el 100% de la muestra."
   ]
  },
  {
   "cell_type": "code",
   "execution_count": 86,
   "metadata": {},
   "outputs": [],
   "source": [
    "predicted_probas = gsearch_RandomForest.predict_proba(X_test_pca)"
   ]
  },
  {
   "cell_type": "code",
   "execution_count": 87,
   "metadata": {},
   "outputs": [
    {
     "data": {
      "image/png": "[encoded data removed]",
      "text/plain": [
       "<Figure size 432x288 with 1 Axes>"
      ]
     },
     "metadata": {
      "needs_background": "light"
     },
     "output_type": "display_data"
    }
   ],
   "source": [
    "import scikitplot as skplt\n",
    "skplt.metrics.plot_cumulative_gain(ytest, predicted_probas)\n",
    "plt.show()"
   ]
  },
  {
   "cell_type": "markdown",
   "metadata": {},
   "source": [
    "### Lift Curve\n",
    "\n",
    "En la siguiente curva, tiene una forma contraria a la cumulative gain curve. Esta gráfica nos muestra como cual es la efectividad del modelo resecto al aumento de la muestra. Observamos que la linea class 0 es perfecta ya que esta sobre la baseline por tanto tiene una prediccion del 100% (problema de overfiting). Por otro lado, class 1 cuando la muestra es pequeña no obtiene un gran resultado pero a medida que aumenta la muestra tiende al mismo valor que la class 0."
   ]
  },
  {
   "cell_type": "code",
   "execution_count": 88,
   "metadata": {},
   "outputs": [
    {
     "data": {
      "image/png": "[encoded data removed]",
      "text/plain": [
       "<Figure size 432x288 with 1 Axes>"
      ]
     },
     "metadata": {
      "needs_background": "light"
     },
     "output_type": "display_data"
    }
   ],
   "source": [
    "skplt.metrics.plot_lift_curve(ytest, predicted_probas)\n",
    "plt.show()"
   ]
  },
  {
   "cell_type": "markdown",
   "metadata": {},
   "source": [
    "# Histograma de las probabilidades predecidas"
   ]
  },
  {
   "cell_type": "code",
   "execution_count": 89,
   "metadata": {},
   "outputs": [
    {
     "data": {
      "text/plain": [
       "Text(0, 0.5, 'Frequency')"
      ]
     },
     "execution_count": 89,
     "metadata": {},
     "output_type": "execute_result"
    },
    {
     "data": {
      "image/png": "[encoded data removed]",
      "text/plain": [
       "<Figure size 432x288 with 1 Axes>"
      ]
     },
     "metadata": {
      "needs_background": "light"
     },
     "output_type": "display_data"
    }
   ],
   "source": [
    "y_pred_prob = predicted_probas[:, 1]\n",
    "\n",
    "plt.rcParams['font.size'] = 12\n",
    "plt.hist(y_pred_prob, bins=25,facecolor='royalblue', edgecolor = 'black')\n",
    "plt.xlim(0,1)\n",
    "plt.title('Histogram of predicted probabilities')\n",
    "plt.xlabel('Predicted probability')\n",
    "plt.ylabel('Frequency')"
   ]
  },
  {
   "cell_type": "code",
   "execution_count": 94,
   "metadata": {},
   "outputs": [
    {
     "name": "stdout",
     "output_type": "stream",
     "text": [
      "              precision    recall  f1-score   support\n",
      "\n",
      "           0       0.99      0.98      0.98   1033385\n",
      "           1       0.25      0.48      0.33     17727\n",
      "\n",
      "    accuracy                           0.97   1051112\n",
      "   macro avg       0.62      0.73      0.66   1051112\n",
      "weighted avg       0.98      0.97      0.97   1051112\n",
      "\n"
     ]
    }
   ],
   "source": [
    "print(classification_report(ytest, pred))"
   ]
  },
  {
   "cell_type": "markdown",
   "metadata": {},
   "source": [
    "# Guardamos el modelo"
   ]
  },
  {
   "cell_type": "code",
   "execution_count": 98,
   "metadata": {},
   "outputs": [],
   "source": [
    "import pickle"
   ]
  },
  {
   "cell_type": "code",
   "execution_count": 99,
   "metadata": {},
   "outputs": [],
   "source": [
    "model = gsearch_RandomForest\n",
    "filename = 'RandomForest.sav'\n",
    "pickle.dump(model, open(filename, 'wb'))"
   ]
  },
  {
   "cell_type": "code",
   "execution_count": 100,
   "metadata": {},
   "outputs": [
    {
     "data": {
      "text/plain": [
       "0.966883643227363"
      ]
     },
     "execution_count": 100,
     "metadata": {},
     "output_type": "execute_result"
    }
   ],
   "source": [
    "filename3 = 'RandomForest.sav'\n",
    "RF = pickle.load(open(filename3, 'rb'))\n",
    "pred = RF.predict(X_test_pca)\n",
    "accuracy_score(ytest, pred) "
   ]
  },
  {
   "cell_type": "code",
   "execution_count": null,
   "metadata": {},
   "outputs": [],
   "source": [
    "# Guardamos las xtest e ytest tratados en el modelo final para poder realizar la interpretabilidad en el siguientr script\n",
    "X_train_pca.to_parquet(\"X_train_pca.parquet\")\n",
    "X_test_pca.to_parquet(\"X_test_pca.parquet\")\n",
    "pd.DataFrame(y_train_sampled).to_parquet('y_train_sampled.parquet')\n",
    "pd.DataFrame(ytest).to_parquet('ytest.parquet')"
   ]
  },
  {
   "cell_type": "code",
   "execution_count": null,
   "metadata": {},
   "outputs": [],
   "source": []
  },
  {
   "cell_type": "code",
   "execution_count": null,
   "metadata": {},
   "outputs": [],
   "source": []
  },
  {
   "cell_type": "code",
   "execution_count": null,
   "metadata": {},
   "outputs": [],
   "source": []
  },
  {
   "cell_type": "code",
   "execution_count": null,
   "metadata": {},
   "outputs": [],
   "source": []
  },
  {
   "cell_type": "code",
   "execution_count": null,
   "metadata": {},
   "outputs": [],
   "source": []
  }
 ],
 "metadata": {
  "interpreter": {
   "hash": "ec2db0e6a0cfac1ce70841df038de22160a260bdc8b421418e70720619f258bc"
  },
  "kernelspec": {
   "display_name": "Python 3",
   "language": "python",
   "name": "python3"
  },
  "language_info": {
   "codemirror_mode": {
    "name": "ipython",
    "version": 3
   },
   "file_extension": ".py",
   "mimetype": "text/x-python",
   "name": "python",
   "nbconvert_exporter": "python",
   "pygments_lexer": "ipython3",
   "version": "3.8.8"
  }
 },
 "nbformat": 4,
 "nbformat_minor": 4
}
